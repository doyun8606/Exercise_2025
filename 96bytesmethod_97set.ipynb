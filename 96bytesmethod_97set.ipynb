{
  "nbformat": 4,
  "nbformat_minor": 0,
  "metadata": {
    "colab": {
      "provenance": [],
      "authorship_tag": "ABX9TyOOMIv8XSB9frCXuo5h4Wxo",
      "include_colab_link": true
    },
    "kernelspec": {
      "name": "python3",
      "display_name": "Python 3"
    },
    "language_info": {
      "name": "python"
    }
  },
  "cells": [
    {
      "cell_type": "markdown",
      "metadata": {
        "id": "view-in-github",
        "colab_type": "text"
      },
      "source": [
        "<a href=\"https://colab.research.google.com/github/doyun8606/Exercise_2025/blob/main/96bytesmethod_97set.ipynb\" target=\"_parent\"><img src=\"https://colab.research.google.com/assets/colab-badge.svg\" alt=\"Open In Colab\"/></a>"
      ]
    },
    {
      "cell_type": "code",
      "execution_count": null,
      "metadata": {
        "colab": {
          "base_uri": "https://localhost:8080/"
        },
        "id": "zC8HMVKJ9gdn",
        "outputId": "2576fb0c-7f3e-4def-ffb6-79888c8bb047"
      },
      "outputs": [
        {
          "output_type": "stream",
          "name": "stdout",
          "text": [
            "b'ABcdef'\n",
            "4 10\n",
            "b'abcdef'\n"
          ]
        }
      ],
      "source": [
        "bytesData = b'abcdef'\n",
        "data = bytesData.replace(b'ab',b'AB')\n",
        "print(data)\n",
        "\n",
        "bytesData = b'abcdefabcdef'\n",
        "idx1 = bytesData.find(b'e')\n",
        "idx2 = bytesData.find(b'e', idx1+1)\n",
        "print(idx1, idx2)\n",
        "\n",
        "bytesData = b' abcdef '\n",
        "bytesData = bytesData.strip()\n",
        "print(bytesData)"
      ]
    },
    {
      "cell_type": "code",
      "source": [
        "setData = {'사과','배','사과','수박','오렌지'}\n",
        "print(setData)\n",
        "\n",
        "print(setData) #한 번 더 호출\n",
        "\n",
        "strData = 'abcabccdef'\n",
        "setData = set(strData)\n",
        "print(setData)\n",
        "\n",
        "fruits = {'사과','배','수박','배','사과','오렌지'}\n",
        "setData = set(fruits)\n",
        "print(setData)"
      ],
      "metadata": {
        "colab": {
          "base_uri": "https://localhost:8080/"
        },
        "id": "vh5mywmK-erJ",
        "outputId": "300f764e-3700-450a-9666-8b02565b27bb"
      },
      "execution_count": null,
      "outputs": [
        {
          "output_type": "stream",
          "name": "stdout",
          "text": [
            "{'사과', '오렌지', '배', '수박'}\n",
            "{'사과', '오렌지', '배', '수박'}\n",
            "{'b', 'e', 'c', 'f', 'd', 'a'}\n",
            "{'사과', '오렌지', '배', '수박'}\n"
          ]
        }
      ]
    }
  ]
}