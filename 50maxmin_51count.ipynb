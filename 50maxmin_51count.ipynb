{
  "nbformat": 4,
  "nbformat_minor": 0,
  "metadata": {
    "colab": {
      "provenance": [],
      "authorship_tag": "ABX9TyOf0lWb6QQA263IQSldA1b/",
      "include_colab_link": true
    },
    "kernelspec": {
      "name": "python3",
      "display_name": "Python 3"
    },
    "language_info": {
      "name": "python"
    }
  },
  "cells": [
    {
      "cell_type": "markdown",
      "metadata": {
        "id": "view-in-github",
        "colab_type": "text"
      },
      "source": [
        "<a href=\"https://colab.research.google.com/github/doyun8606/Exercise_2025/blob/main/50maxmin_51count.ipynb\" target=\"_parent\"><img src=\"https://colab.research.google.com/assets/colab-badge.svg\" alt=\"Open In Colab\"/></a>"
      ]
    },
    {
      "cell_type": "code",
      "execution_count": null,
      "metadata": {
        "colab": {
          "base_uri": "https://localhost:8080/",
          "height": 146
        },
        "id": "Ez5AoQ8MXB5I",
        "outputId": "1e954897-0abe-48df-d902-d84d06cc4350"
      },
      "outputs": [
        {
          "output_type": "stream",
          "name": "stdout",
          "text": [
            "9.96\n",
            "0.93\n",
            "y\n",
            "A\n",
            "sam\n",
            "3sung\n"
          ]
        },
        {
          "output_type": "execute_result",
          "data": {
            "text/plain": [
              "\"list1 = [1,2,3,'a','b','c']\\nprint(max(list1))\""
            ],
            "application/vnd.google.colaboratory.intrinsic+json": {
              "type": "string"
            }
          },
          "metadata": {},
          "execution_count": 4
        }
      ],
      "source": [
        "listData = [9.96,1.27,5.07,6.45,8.38,9.29,4.93,7.73,3.71,0.93]\n",
        "print(max(listData))\n",
        "print(min(listData))\n",
        "\n",
        "strData = 'AlotofThingsOccurEachday'\n",
        "print(max(strData))\n",
        "print(min(strData))\n",
        "\n",
        "strList = ['jang','apple12','3sung','sam']\n",
        "print(max(strList))\n",
        "print(min(strList))\n",
        "\n",
        "'''list1 = [1,2,3,'a','b','c']\n",
        "print(max(list1))'''"
      ]
    },
    {
      "cell_type": "code",
      "source": [
        "lyrics = 'A lot os yhings occur each day! every day!'\n",
        "print(lyrics.count('o'))\n",
        "print(lyrics.count('day'))\n",
        "print(lyrics.count(' '))\n",
        "listData = [1,6,1,4,8,4,12,1,0,9,9,7,4,3,6,7,3,2]\n",
        "print(listData.count(1))"
      ],
      "metadata": {
        "colab": {
          "base_uri": "https://localhost:8080/"
        },
        "id": "f1_juD9aaWph",
        "outputId": "27a399a1-2b9d-4ba3-b172-4eaf677789ea"
      },
      "execution_count": null,
      "outputs": [
        {
          "output_type": "stream",
          "name": "stdout",
          "text": [
            "3\n",
            "2\n",
            "8\n",
            "3\n"
          ]
        }
      ]
    }
  ]
}