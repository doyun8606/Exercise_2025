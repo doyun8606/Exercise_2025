{
  "nbformat": 4,
  "nbformat_minor": 0,
  "metadata": {
    "colab": {
      "provenance": [],
      "authorship_tag": "ABX9TyMfXrNpUoZwnONSmyr2c7O4",
      "include_colab_link": true
    },
    "kernelspec": {
      "name": "python3",
      "display_name": "Python 3"
    },
    "language_info": {
      "name": "python"
    }
  },
  "cells": [
    {
      "cell_type": "markdown",
      "metadata": {
        "id": "view-in-github",
        "colab_type": "text"
      },
      "source": [
        "<a href=\"https://colab.research.google.com/github/doyun8606/Exercise_2025/blob/main/62listinsert_63listappend.ipynb\" target=\"_parent\"><img src=\"https://colab.research.google.com/assets/colab-badge.svg\" alt=\"Open In Colab\"/></a>"
      ]
    },
    {
      "cell_type": "code",
      "execution_count": null,
      "metadata": {
        "colab": {
          "base_uri": "https://localhost:8080/"
        },
        "id": "HVLoM378oH85",
        "outputId": "1290d6fd-9559-45b0-958b-300f128f3527"
      },
      "outputs": [
        {
          "output_type": "stream",
          "name": "stdout",
          "text": [
            "['목성', '토성', '천왕성', '해왕성']\n",
            "['목성', '토성', '천왕성', '명왕성', '해왕성']\n",
            "['목성', '토성', '천왕성', '해왕성', '명왕성']\n"
          ]
        }
      ],
      "source": [
        "outer_planets = ['목성','천왕성','해왕성']\n",
        "pos = outer_planets.index('천왕성')\n",
        "outer_planets.insert(pos,'토성')\n",
        "print(outer_planets)\n",
        "\n",
        "outer_planets.insert(-1,'명왕성')\n",
        "print(outer_planets)\n",
        "\n",
        "outer_planets = ['목성','토성','천왕성','해왕성']\n",
        "outer_planets.insert(len(outer_planets),'명왕성')\n",
        "print(outer_planets)"
      ]
    },
    {
      "cell_type": "code",
      "source": [
        "fileList = []\n",
        "for i in range(3):\n",
        "  fname = input(f'파일 이름을 입력하세요[{i+1}/3]:')\n",
        "  if fname not in fileList:\n",
        "    fileList.append(fname)\n",
        "  print(f'현재 저장된 파일들:{fileList}')"
      ],
      "metadata": {
        "colab": {
          "base_uri": "https://localhost:8080/"
        },
        "id": "btVYJ-Srp1zF",
        "outputId": "88a34758-67eb-4fb6-c5eb-6c3214138c05"
      },
      "execution_count": null,
      "outputs": [
        {
          "output_type": "stream",
          "name": "stdout",
          "text": [
            "파일 이름을 입력하세요[1/3]:a\n",
            "현재 저장된 파일들:['a']\n",
            "파일 이름을 입력하세요[2/3]:b\n",
            "현재 저장된 파일들:['a', 'b']\n",
            "파일 이름을 입력하세요[3/3]:c\n",
            "현재 저장된 파일들:['a', 'b', 'c']\n"
          ]
        }
      ]
    }
  ]
}