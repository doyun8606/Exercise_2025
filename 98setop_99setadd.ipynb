{
  "nbformat": 4,
  "nbformat_minor": 0,
  "metadata": {
    "colab": {
      "provenance": [],
      "authorship_tag": "ABX9TyO30m7IOJUWYEHjXQgU4n3j",
      "include_colab_link": true
    },
    "kernelspec": {
      "name": "python3",
      "display_name": "Python 3"
    },
    "language_info": {
      "name": "python"
    }
  },
  "cells": [
    {
      "cell_type": "markdown",
      "metadata": {
        "id": "view-in-github",
        "colab_type": "text"
      },
      "source": [
        "<a href=\"https://colab.research.google.com/github/doyun8606/Exercise_2025/blob/main/98setop_99setadd.ipynb\" target=\"_parent\"><img src=\"https://colab.research.google.com/assets/colab-badge.svg\" alt=\"Open In Colab\"/></a>"
      ]
    },
    {
      "cell_type": "code",
      "execution_count": null,
      "metadata": {
        "colab": {
          "base_uri": "https://localhost:8080/"
        },
        "id": "3NI2IJZP_Y4q",
        "outputId": "cc223e5f-a1ee-4ba6-81a0-4fb8d59824de"
      },
      "outputs": [
        {
          "output_type": "stream",
          "name": "stdout",
          "text": [
            "{'b', 't', 'v', 'e', 'r', 'o', 'd', 'a', 'n', 'c', 'i'}\n",
            "{'b', 'a', 'r'}\n",
            "{'c', 'd'}\n",
            "{'t', 'v', 'e', 'o', 'd', 'n', 'c', 'i'}\n",
            "False\n"
          ]
        }
      ],
      "source": [
        "set1 = set('abradacabra')\n",
        "set2 = set('abbreviation')\n",
        "\n",
        "ret = set1|set2\n",
        "print(ret)\n",
        "\n",
        "ret = set1 & set2\n",
        "print(ret)\n",
        "\n",
        "ret = set1 -set2\n",
        "print(ret)\n",
        "\n",
        "ret = set1 ^ set2\n",
        "print(ret)\n",
        "\n",
        "ret = set1 <= set2\n",
        "print(ret)\n",
        "\n",
        "set1|=set2 # set1|set2의 결과를 set1로 업데이트\n",
        "set1&=set2 # set1&set2의 결과를 set1로 업데이트\n",
        "set1-=set2 # set1-set2의 결과를 set1로 업데이트\n",
        "set1^=set2 # set1^set2의 결과를 set1로 업데이트"
      ]
    },
    {
      "cell_type": "code",
      "source": [
        "fruits = {'사과','배','오렌지','수박'}\n",
        "fruits.add('딸기')\n",
        "print(fruits)\n",
        "\n",
        "fruits.add('배')\n",
        "print(fruits)"
      ],
      "metadata": {
        "colab": {
          "base_uri": "https://localhost:8080/"
        },
        "id": "ICHtr07eAu-U",
        "outputId": "c0753097-ab94-47ed-ea67-92128eebfedf"
      },
      "execution_count": null,
      "outputs": [
        {
          "output_type": "stream",
          "name": "stdout",
          "text": [
            "{'수박', '배', '딸기', '오렌지', '사과'}\n",
            "{'수박', '배', '딸기', '오렌지', '사과'}\n"
          ]
        }
      ]
    }
  ]
}