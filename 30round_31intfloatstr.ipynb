{
  "nbformat": 4,
  "nbformat_minor": 0,
  "metadata": {
    "colab": {
      "provenance": [],
      "authorship_tag": "ABX9TyM5LEoSUONzak+gED+eTbJT",
      "include_colab_link": true
    },
    "kernelspec": {
      "name": "python3",
      "display_name": "Python 3"
    },
    "language_info": {
      "name": "python"
    }
  },
  "cells": [
    {
      "cell_type": "markdown",
      "metadata": {
        "id": "view-in-github",
        "colab_type": "text"
      },
      "source": [
        "<a href=\"https://colab.research.google.com/github/doyun8606/Exercise_2025/blob/main/30round_31intfloatstr.ipynb\" target=\"_parent\"><img src=\"https://colab.research.google.com/assets/colab-badge.svg\" alt=\"Open In Colab\"/></a>"
      ]
    },
    {
      "cell_type": "code",
      "execution_count": null,
      "metadata": {
        "colab": {
          "base_uri": "https://localhost:8080/"
        },
        "id": "DthPkuEEterO",
        "outputId": "240400f9-42ef-4872-eb08-691fcd177b81"
      },
      "outputs": [
        {
          "output_type": "stream",
          "name": "stdout",
          "text": [
            "42\n",
            "42.0\n",
            "42.2\n"
          ]
        }
      ],
      "source": [
        "ret = round(42.195)\n",
        "print(ret)\n",
        "\n",
        "ret = round(42.195,0)\n",
        "print(ret)\n",
        "\n",
        "ret = round(42.195,1)\n",
        "print(ret)\n",
        "\n",
        "ret = round(42.195,-1)\n",
        "print(ret)"
      ]
    },
    {
      "cell_type": "code",
      "source": [
        "floatData = 1234.5\n",
        "intData = int(floatData)\n",
        "print(f'intData {intData} 자료형은 {type(intData)}입니다.')\n",
        "\n",
        "strData = '1234'\n",
        "intData = int(strData)\n",
        "print(f'intData {intData} 자료형은 {type(intData)}입니다.')\n",
        "\n",
        "'''strData = '1234.5'\n",
        "intData = int(strData)'''\n",
        "\n",
        "strData = '1234.5'\n",
        "floatData = float(strData)\n",
        "print(f'floatData {floatData} 자료형은 {type(floatData)}입니다.')\n",
        "\n",
        "print(float('2E5'))\n",
        "print(float('2e-3'))\n",
        "\n",
        "intData = 1234; strData1 = str(intData)\n",
        "floatData1 = 1234.5; strData2 = str(floatData1)\n",
        "floatData2 = 1e-3; strData3 = str(floatData2)\n",
        "print(f'정수 {intData} => 문자열 {strData1}, {type(strData1)}')\n",
        "print(f'실수 {floatData1} => 문자열 {strData2}, {type(strData2)}')\n",
        "print(f'실수 {floatData2} => 문자열 {strData3}, {type(strData3)}')\n",
        "\n",
        "\n",
        "\n"
      ],
      "metadata": {
        "colab": {
          "base_uri": "https://localhost:8080/"
        },
        "id": "eA-ZsxNyuZzR",
        "outputId": "083b1534-2b58-40af-a7ed-dd217c51faab"
      },
      "execution_count": null,
      "outputs": [
        {
          "output_type": "stream",
          "name": "stdout",
          "text": [
            "intData 1234 자료형은 <class 'int'>입니다.\n",
            "intData 1234 자료형은 <class 'int'>입니다.\n",
            "floatData 1234.5 자료형은 <class 'float'>입니다.\n",
            "200000.0\n",
            "0.002\n",
            "정수 1234 => 문자열 1234, <class 'str'>\n",
            "실수 1234.5 => 문자열 1234.5, <class 'str'>\n",
            "실수 0.001 => 문자열 0.001, <class 'str'>\n"
          ]
        }
      ]
    }
  ]
}