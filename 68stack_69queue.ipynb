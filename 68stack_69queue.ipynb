{
  "nbformat": 4,
  "nbformat_minor": 0,
  "metadata": {
    "colab": {
      "provenance": [],
      "authorship_tag": "ABX9TyP74fhRfRor5WO31Sx2z5cp",
      "include_colab_link": true
    },
    "kernelspec": {
      "name": "python3",
      "display_name": "Python 3"
    },
    "language_info": {
      "name": "python"
    }
  },
  "cells": [
    {
      "cell_type": "markdown",
      "metadata": {
        "id": "view-in-github",
        "colab_type": "text"
      },
      "source": [
        "<a href=\"https://colab.research.google.com/github/doyun8606/Exercise_2025/blob/main/68stack_69queue.ipynb\" target=\"_parent\"><img src=\"https://colab.research.google.com/assets/colab-badge.svg\" alt=\"Open In Colab\"/></a>"
      ]
    },
    {
      "cell_type": "code",
      "execution_count": null,
      "metadata": {
        "colab": {
          "base_uri": "https://localhost:8080/"
        },
        "id": "ZJogcVvVxnJ3",
        "outputId": "4437ccf0-5bb0-42b1-fe18-9ea789713610"
      },
      "outputs": [
        {
          "output_type": "stream",
          "name": "stdout",
          "text": [
            "스택상태:['사과', [1, 2, 3], 3.141592]\n",
            "스택에서 데이터 추출:3.141592\n",
            "스택상태:['사과', [1, 2, 3]]\n",
            "-------------------\n",
            "스택에서 데이터 추출:[1, 2, 3]\n",
            "스택상태:['사과']\n",
            "-------------------\n",
            "스택에서 데이터 추출:사과\n",
            "스택상태:[]\n",
            "-------------------\n"
          ]
        }
      ],
      "source": [
        "mystack = []\n",
        "\n",
        "def putData(data):\n",
        "  mystack.append(data)\n",
        "\n",
        "def popData():\n",
        "  if len(mystack) == 0:\n",
        "    return None\n",
        "  return mystack.pop()\n",
        "\n",
        "putData('사과')\n",
        "putData([1,2,3])\n",
        "putData(3.141592)\n",
        "print(f'스택상태:{mystack}')\n",
        "\n",
        "ret = popData()\n",
        "while ret != None:\n",
        "  print(f'스택에서 데이터 추출:{ret}')\n",
        "  print(f'스택상태:{mystack}')\n",
        "  print('-------------------')\n",
        "  ret = popData()"
      ]
    },
    {
      "cell_type": "code",
      "source": [
        "import collections\n",
        "myqueue = collections.deque([])\n",
        "\n",
        "def putData(data):\n",
        "  myqueue.append(data)\n",
        "\n",
        "def popData():\n",
        "  if len(myqueue) == 0:\n",
        "    return None\n",
        "  return myqueue.popleft()\n",
        "\n",
        "putData('사과')\n",
        "putData([1,2,3])\n",
        "putData(3.141592)\n",
        "print(f'큐상태:{myqueue}')\n",
        "\n",
        "ret = popData()\n",
        "while ret != None:\n",
        "  print(f'큐에서 데이터 추출:{ret}')\n",
        "  print(f'큐상태:{myqueue}')\n",
        "  print('-------------------')\n",
        "  ret = popData()"
      ],
      "metadata": {
        "colab": {
          "base_uri": "https://localhost:8080/"
        },
        "id": "MiHbUBqSzFKa",
        "outputId": "0195815b-395d-4282-e618-31e9521ba3fd"
      },
      "execution_count": null,
      "outputs": [
        {
          "output_type": "stream",
          "name": "stdout",
          "text": [
            "큐상태:deque(['사과', [1, 2, 3], 3.141592])\n",
            "큐에서 데이터 추출:사과\n",
            "큐상태:deque([[1, 2, 3], 3.141592])\n",
            "-------------------\n",
            "큐에서 데이터 추출:[1, 2, 3]\n",
            "큐상태:deque([3.141592])\n",
            "-------------------\n",
            "큐에서 데이터 추출:3.141592\n",
            "큐상태:deque([])\n",
            "-------------------\n"
          ]
        }
      ]
    }
  ]
}