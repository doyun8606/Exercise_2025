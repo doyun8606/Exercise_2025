{
  "nbformat": 4,
  "nbformat_minor": 0,
  "metadata": {
    "colab": {
      "provenance": [],
      "authorship_tag": "ABX9TyPZdsUvkSzk4zMP4jht4MRk",
      "include_colab_link": true
    },
    "kernelspec": {
      "name": "python3",
      "display_name": "Python 3"
    },
    "language_info": {
      "name": "python"
    }
  },
  "cells": [
    {
      "cell_type": "markdown",
      "metadata": {
        "id": "view-in-github",
        "colab_type": "text"
      },
      "source": [
        "<a href=\"https://colab.research.google.com/github/doyun8606/Exercise_2025/blob/main/82strsplit_83strstrip.ipynb\" target=\"_parent\"><img src=\"https://colab.research.google.com/assets/colab-badge.svg\" alt=\"Open In Colab\"/></a>"
      ]
    },
    {
      "cell_type": "code",
      "execution_count": null,
      "metadata": {
        "colab": {
          "base_uri": "https://localhost:8080/"
        },
        "id": "sThWPfrWb541",
        "outputId": "ed1ae053-f6bf-4d53-e83b-3c11705387e2"
      },
      "outputs": [
        {
          "output_type": "stream",
          "name": "stdout",
          "text": [
            "['홍길동', '남자', '18세', '도적', '초능력자']\n",
            "['나는', '파이썬을', '사랑합니다.']\n",
            "이름-->홍길동\n",
            "나이-->18세\n",
            "성별-->남자\n",
            "국적-->조선\n",
            "직업-->도적\n",
            "특기-->초능력\n"
          ]
        }
      ],
      "source": [
        "logData = '홍길동;남자;18세;도적;초능력자'\n",
        "profile = logData.split(';')\n",
        "print(profile)\n",
        "\n",
        "text = '나는 파이썬을 사랑합니다.'\n",
        "print(text.split())\n",
        "\n",
        "profile = '이름:홍길동 나이:18세 성별:남자 국적:조선 직업:도적 특기:초능력'\n",
        "for data in profile.split():\n",
        "  key,val = data.split(':')\n",
        "  print(f'{key}-->{val}')"
      ]
    },
    {
      "cell_type": "code",
      "source": [
        "text = ' 이 문장의 양쪽에는 공백이 있습니다. '\n",
        "print(f'<{text.strip()}>')\n",
        "print(f'<{text.lstrip()}>')\n",
        "print(f'<{text.rstrip()}>')\n",
        "\n",
        "url = 'www.python.com'\n",
        "print(url.strip('cmow.'))\n",
        "print(url.lstrip('cmow'))\n",
        "print(url.rstrip('cmow.'))"
      ],
      "metadata": {
        "colab": {
          "base_uri": "https://localhost:8080/"
        },
        "id": "y7OpvUK5frL3",
        "outputId": "924d813c-b4f4-4367-9720-5b3cc38f1ea2"
      },
      "execution_count": null,
      "outputs": [
        {
          "output_type": "stream",
          "name": "stdout",
          "text": [
            "<이 문장의 양쪽에는 공백이 있습니다.>\n",
            "<이 문장의 양쪽에는 공백이 있습니다. >\n",
            "< 이 문장의 양쪽에는 공백이 있습니다.>\n",
            "python\n",
            ".python.com\n",
            "www.python\n"
          ]
        }
      ]
    }
  ]
}