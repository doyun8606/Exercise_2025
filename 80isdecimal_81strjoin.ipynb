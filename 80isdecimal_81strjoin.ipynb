{
  "nbformat": 4,
  "nbformat_minor": 0,
  "metadata": {
    "colab": {
      "provenance": [],
      "authorship_tag": "ABX9TyMIik/Inm1Kt2YBOccxvLld",
      "include_colab_link": true
    },
    "kernelspec": {
      "name": "python3",
      "display_name": "Python 3"
    },
    "language_info": {
      "name": "python"
    }
  },
  "cells": [
    {
      "cell_type": "markdown",
      "metadata": {
        "id": "view-in-github",
        "colab_type": "text"
      },
      "source": [
        "<a href=\"https://colab.research.google.com/github/doyun8606/Exercise_2025/blob/main/80isdecimal_81strjoin.ipynb\" target=\"_parent\"><img src=\"https://colab.research.google.com/assets/colab-badge.svg\" alt=\"Open In Colab\"/></a>"
      ]
    },
    {
      "cell_type": "code",
      "execution_count": null,
      "metadata": {
        "colab": {
          "base_uri": "https://localhost:8080/"
        },
        "id": "6b63-RszEYNH",
        "outputId": "4467ec94-6aae-49c0-917c-8fae9d6c4328"
      },
      "outputs": [
        {
          "output_type": "stream",
          "name": "stdout",
          "text": [
            "\"1004\"\t-->True\n",
            "\"-1\"\t-->False\n",
            "\"3.14\"\t-->False\n",
            "\"IX\"\t-->False\n",
            "\"7/8\"\t-->False\n",
            "\"5^2\"\t-->False\n",
            "\"50%\"\t-->False\n",
            "\"1004\"\t-->True\n",
            "\"-1\"\t-->False\n",
            "\"3.14\"\t-->False\n",
            "\"IX\"\t-->False\n",
            "\"7/8\"\t-->False\n",
            "\"5^2\"\t-->False\n",
            "\"50%\"\t-->False\n",
            "\"1004\"\t-->True\n",
            "\"-1\"\t-->False\n",
            "\"3.14\"\t-->False\n",
            "\"IX\"\t-->False\n",
            "\"7/8\"\t-->False\n",
            "\"5^2\"\t-->False\n",
            "\"50%\"\t-->False\n"
          ]
        }
      ],
      "source": [
        "numbers = ['1004','-1','3.14','IX','7/8','5^2','50%']\n",
        "for number in numbers:\n",
        "  print(f'\"{number}\"\\t-->{number.isdecimal()}')\n",
        "\n",
        "for number in numbers:\n",
        "  print(f'\"{number}\"\\t-->{number.isdigit()}')\n",
        "\n",
        "for number in numbers:\n",
        "  print(f'\"{number}\"\\t-->{number.isnumeric()}')\n",
        "\n"
      ]
    },
    {
      "cell_type": "code",
      "source": [
        "profile = ['홍길동','남자','18세','초능력자']\n",
        "logData =';'.join(profile)\n",
        "print(logData)\n",
        "\n",
        "'''profile = ['홍길동','남자',18,'초능력자']\n",
        "logData =';'.join(profile)'''"
      ],
      "metadata": {
        "colab": {
          "base_uri": "https://localhost:8080/",
          "height": 54
        },
        "id": "71dYZcHDFaJF",
        "outputId": "0bf9be2a-f649-4a2d-8a49-468517877b0d"
      },
      "execution_count": null,
      "outputs": [
        {
          "output_type": "stream",
          "name": "stdout",
          "text": [
            "홍길동;남자;18세;초능력자\n"
          ]
        },
        {
          "output_type": "execute_result",
          "data": {
            "text/plain": [
              "\"profile = ['홍길동','남자',18,'초능력자']\\nlogData =';'.join(profile)\""
            ],
            "application/vnd.google.colaboratory.intrinsic+json": {
              "type": "string"
            }
          },
          "metadata": {},
          "execution_count": 6
        }
      ]
    }
  ]
}