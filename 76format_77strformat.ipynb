{
  "nbformat": 4,
  "nbformat_minor": 0,
  "metadata": {
    "colab": {
      "provenance": [],
      "authorship_tag": "ABX9TyOY3rEloVi9/5fe6rUO3fmL",
      "include_colab_link": true
    },
    "kernelspec": {
      "name": "python3",
      "display_name": "Python 3"
    },
    "language_info": {
      "name": "python"
    }
  },
  "cells": [
    {
      "cell_type": "markdown",
      "metadata": {
        "id": "view-in-github",
        "colab_type": "text"
      },
      "source": [
        "<a href=\"https://colab.research.google.com/github/doyun8606/Exercise_2025/blob/main/76format_77strformat.ipynb\" target=\"_parent\"><img src=\"https://colab.research.google.com/assets/colab-badge.svg\" alt=\"Open In Colab\"/></a>"
      ]
    },
    {
      "cell_type": "code",
      "execution_count": null,
      "metadata": {
        "colab": {
          "base_uri": "https://localhost:8080/"
        },
        "id": "5NaWh5Ym2ukA",
        "outputId": "708b2b6d-f275-4bb2-a9d4-2c2d34961bcd"
      },
      "outputs": [
        {
          "output_type": "stream",
          "name": "stdout",
          "text": [
            "원주율의 근사값은 3.141592입니다.\n",
            "원주율의 근사값은 3.14입니다\n",
            "서울: 8,789,911명\n",
            "서울:population=8,789,911명\n"
          ]
        }
      ],
      "source": [
        "title = '원주율'\n",
        "pi = 3.141592\n",
        "print(f'{title}의 근사값은 {pi}입니다.')\n",
        "\n",
        "print(f'{title}의 근사값은 {pi:.2f}입니다')\n",
        "\n",
        "city = '서울'\n",
        "population = 8789911\n",
        "print(f'{city}: {population:,d}명')\n",
        "\n",
        "print(f'{city}:{population=:,d}명')\n",
        "\n"
      ]
    },
    {
      "cell_type": "code",
      "source": [
        "pi = 3.141592\n",
        "text ='{}의 근사값은 {}입니다.'.format('원주율',pi)\n",
        "print(text)\n",
        "\n",
        "print('{}의 근사값은 {:.2f}입니다.'.format('원주율',pi))\n",
        "\n",
        "population = 8789911\n",
        "text ='{}:{:,d}명'.format('서울',population)\n",
        "print(text)"
      ],
      "metadata": {
        "colab": {
          "base_uri": "https://localhost:8080/"
        },
        "id": "tiB7arvy5HcW",
        "outputId": "120c0857-2fe1-4542-a688-5ccea8662439"
      },
      "execution_count": null,
      "outputs": [
        {
          "output_type": "stream",
          "name": "stdout",
          "text": [
            "원주율의 근사값은 3.141592입니다.\n",
            "원주율의 근사값은 3.14입니다.\n",
            "서울:8,789,911명\n"
          ]
        }
      ]
    }
  ]
}