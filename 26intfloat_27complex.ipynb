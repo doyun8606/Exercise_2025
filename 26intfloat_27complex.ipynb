{
  "nbformat": 4,
  "nbformat_minor": 0,
  "metadata": {
    "colab": {
      "provenance": [],
      "authorship_tag": "ABX9TyPwkWZVw72ygge+apqI5SXM",
      "include_colab_link": true
    },
    "kernelspec": {
      "name": "python3",
      "display_name": "Python 3"
    },
    "language_info": {
      "name": "python"
    }
  },
  "cells": [
    {
      "cell_type": "markdown",
      "metadata": {
        "id": "view-in-github",
        "colab_type": "text"
      },
      "source": [
        "<a href=\"https://colab.research.google.com/github/doyun8606/Exercise_2025/blob/main/26intfloat_27complex.ipynb\" target=\"_parent\"><img src=\"https://colab.research.google.com/assets/colab-badge.svg\" alt=\"Open In Colab\"/></a>"
      ]
    },
    {
      "cell_type": "code",
      "execution_count": null,
      "metadata": {
        "colab": {
          "base_uri": "https://localhost:8080/"
        },
        "id": "jaWWzq-rpnjw",
        "outputId": "f5ef7871-1a1e-4936-a9aa-d5cbcd5fae04"
      },
      "outputs": [
        {
          "output_type": "stream",
          "name": "stdout",
          "text": [
            "<class 'float'>\n",
            "<class 'float'>\n"
          ]
        }
      ],
      "source": [
        "intData1 = 20 #10진수 정수로 선언\n",
        "\n",
        "octData = 0o24 #정수 20을 8진수로 선언. 0o는 8진수임을 나타냄.\n",
        "hexData = 0x14 #정수 20을 16진수로 선언. 0x는 16진수임을 나타냄.\n",
        "\n",
        "fData1 = 1.0\n",
        "fData2 = 2.\n",
        "\n",
        "intData1 = 5\n",
        "intData2 = 10\n",
        "ret = intData2 / intData1\n",
        "print(type(ret))\n",
        "\n",
        "numData = 2e2 #200\n",
        "print(type(numData))"
      ]
    },
    {
      "cell_type": "code",
      "source": [
        "cData1 = 1 + 1j\n",
        "cData2 = complex(1,1)\n",
        "print(cData1 == cData2)\n",
        "\n",
        "print(cData1.real) #복소수 자료 cData1의 실수부 추출\n",
        "print(cData2.imag) #복소수 자료 cData2의 허수부 추출\n",
        "\n",
        "complexData1 = 1-5j\n",
        "complexData2 = complex(2,3)\n",
        "print(complexData1.conjugate())\n",
        "print(complexData2.conjugate())"
      ],
      "metadata": {
        "colab": {
          "base_uri": "https://localhost:8080/"
        },
        "id": "aVR1H7mhrDc3",
        "outputId": "133140d8-eeb9-4620-9c32-ebf28fbd7b59"
      },
      "execution_count": null,
      "outputs": [
        {
          "output_type": "stream",
          "name": "stdout",
          "text": [
            "True\n",
            "1.0\n",
            "1.0\n",
            "(1+5j)\n",
            "(2-3j)\n"
          ]
        }
      ]
    }
  ]
}