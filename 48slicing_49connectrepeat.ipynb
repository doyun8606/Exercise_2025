{
  "nbformat": 4,
  "nbformat_minor": 0,
  "metadata": {
    "colab": {
      "provenance": [],
      "authorship_tag": "ABX9TyOCx3H7TYktV0eYsZPbdham",
      "include_colab_link": true
    },
    "kernelspec": {
      "name": "python3",
      "display_name": "Python 3"
    },
    "language_info": {
      "name": "python"
    }
  },
  "cells": [
    {
      "cell_type": "markdown",
      "metadata": {
        "id": "view-in-github",
        "colab_type": "text"
      },
      "source": [
        "<a href=\"https://colab.research.google.com/github/doyun8606/Exercise_2025/blob/main/48slicing_49connectrepeat.ipynb\" target=\"_parent\"><img src=\"https://colab.research.google.com/assets/colab-badge.svg\" alt=\"Open In Colab\"/></a>"
      ]
    },
    {
      "cell_type": "code",
      "execution_count": null,
      "metadata": {
        "colab": {
          "base_uri": "https://localhost:8080/"
        },
        "id": "pX-rivTv1Tbb",
        "outputId": "964325fc-cbc7-47e4-f327-549bc63670aa"
      },
      "outputs": [
        {
          "output_type": "stream",
          "name": "stdout",
          "text": [
            "s mo\n",
            "Time \n",
            "Dont waste your time!\n",
            "Time is money! Dont waste your time\n",
            "time!\n",
            "Time is money! Dont waste your time!\n",
            "[0, 2, 4, 6, 8]\n",
            "[1, 3, 5, 7, 9]\n"
          ]
        }
      ],
      "source": [
        "wise_saying = \"Time is money! Dont waste your time!\"\n",
        "print(wise_saying[6:10])\n",
        "\n",
        "print(wise_saying[:5])\n",
        "\n",
        "print(wise_saying[15:])\n",
        "\n",
        "print(wise_saying[:-1])\n",
        "\n",
        "print(wise_saying[-5:])\n",
        "\n",
        "print(wise_saying[:])\n",
        "\n",
        "intList = [0,1,2,3,4,5,6,7,8,9]\n",
        "print(intList[::2])\n",
        "\n",
        "print(intList[1::2])"
      ]
    },
    {
      "cell_type": "code",
      "source": [
        "url1 = 'https://blog.naver.com/'\n",
        "url2 = 'samsjang'\n",
        "print(url1+url2)\n",
        "\n",
        "list1 = [0,1,2]\n",
        "list2 = [3,4,5]\n",
        "print(list1 + list2)\n",
        "print(list2 + list1)\n",
        "\n",
        "'''listData = [0,1,2]\n",
        "strData = '시퀀스 자료의 연결'\n",
        "print(listData + strData)'''\n",
        "\n",
        "lyrics1 = '빗소리만 하얗게 나를'\n",
        "lyrics2 = '감싸네~'\n",
        "print(lyrics1 + lyrics2*3)\n",
        "\n",
        "listData = [1,2,3]\n",
        "print(listData*5)"
      ],
      "metadata": {
        "colab": {
          "base_uri": "https://localhost:8080/"
        },
        "id": "MwaElHMGVT3r",
        "outputId": "a38f7fe1-690a-4abf-d2be-001ef5f05435"
      },
      "execution_count": null,
      "outputs": [
        {
          "output_type": "stream",
          "name": "stdout",
          "text": [
            "https://blog.naver.com/samsjang\n",
            "[0, 1, 2, 3, 4, 5]\n",
            "[3, 4, 5, 0, 1, 2]\n",
            "빗소리만 하얗게 나를감싸네~감싸네~감싸네~\n",
            "[1, 2, 3, 1, 2, 3, 1, 2, 3, 1, 2, 3, 1, 2, 3]\n"
          ]
        }
      ]
    }
  ]
}