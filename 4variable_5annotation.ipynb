{
  "nbformat": 4,
  "nbformat_minor": 0,
  "metadata": {
    "colab": {
      "provenance": [],
      "authorship_tag": "ABX9TyP7YAEqEttr88soJhTMHtOq",
      "include_colab_link": true
    },
    "kernelspec": {
      "name": "python3",
      "display_name": "Python 3"
    },
    "language_info": {
      "name": "python"
    }
  },
  "cells": [
    {
      "cell_type": "markdown",
      "metadata": {
        "id": "view-in-github",
        "colab_type": "text"
      },
      "source": [
        "<a href=\"https://colab.research.google.com/github/doyun8606/Exercise_2025/blob/main/4variable_5annotation.ipynb\" target=\"_parent\"><img src=\"https://colab.research.google.com/assets/colab-badge.svg\" alt=\"Open In Colab\"/></a>"
      ]
    },
    {
      "cell_type": "code",
      "source": [
        "my_name = '길도윤'\n",
        "MyName2 = 'Kil Do Yun'\n",
        "country = '대한민국'\n",
        "\n",
        "counter = 1\n",
        "Counter = 2\n",
        "\n",
        "intdata = 1\n",
        "pi = 3.14\n",
        "flag = True\n",
        "ch = 'x'\n",
        "strData = '사랑해요 파이썬!'\n",
        "\n",
        "buffer = 1\n",
        "buffer + 2"
      ],
      "metadata": {
        "colab": {
          "base_uri": "https://localhost:8080/"
        },
        "id": "y9uJ3-oEVDtr",
        "outputId": "70e6b3c0-2f0b-47ec-da27-ab266465b5ba"
      },
      "execution_count": null,
      "outputs": [
        {
          "output_type": "execute_result",
          "data": {
            "text/plain": [
              "3"
            ]
          },
          "metadata": {},
          "execution_count": 3
        }
      ]
    },
    {
      "cell_type": "code",
      "source": [
        "### 만든 날짜: 2025.09.09\n",
        "\n",
        "a = 1 # a에 1을 할당\n",
        "b = 5 # b에 5를 할당\n",
        "print(a+b) # a+b의 값을 출력"
      ],
      "metadata": {
        "colab": {
          "base_uri": "https://localhost:8080/"
        },
        "id": "MQU915PXWzgw",
        "outputId": "c9aedae0-1fa1-43f9-a2d0-eac3bb5fbbfe"
      },
      "execution_count": null,
      "outputs": [
        {
          "output_type": "stream",
          "name": "stdout",
          "text": [
            "6\n"
          ]
        }
      ]
    },
    {
      "cell_type": "code",
      "source": [
        "comment = 'Result ='\n",
        "# 삼중 따옴표로 특정 영역 주석 처리 예시\n",
        "\"\"\"a = 1\n",
        "b = 100\n",
        "print(a = b )\"\"\"\n",
        "a = 5\n",
        "b = 50\n",
        "print(comment, a+b)"
      ],
      "metadata": {
        "colab": {
          "base_uri": "https://localhost:8080/"
        },
        "id": "MGd_soLxXP9H",
        "outputId": "8264ef7d-b3b4-4cd8-cc0d-a3827acc1994"
      },
      "execution_count": null,
      "outputs": [
        {
          "output_type": "stream",
          "name": "stdout",
          "text": [
            "Result = 55\n"
          ]
        }
      ]
    }
  ]
}