{
  "nbformat": 4,
  "nbformat_minor": 0,
  "metadata": {
    "colab": {
      "provenance": [],
      "authorship_tag": "ABX9TyM54HLaqRM4EIDgB0p1Jtig",
      "include_colab_link": true
    },
    "kernelspec": {
      "name": "python3",
      "display_name": "Python 3"
    },
    "language_info": {
      "name": "python"
    }
  },
  "cells": [
    {
      "cell_type": "markdown",
      "metadata": {
        "id": "view-in-github",
        "colab_type": "text"
      },
      "source": [
        "<a href=\"https://colab.research.google.com/github/doyun8606/Exercise_2025/blob/main/10typeannotation_11input.ipynb\" target=\"_parent\"><img src=\"https://colab.research.google.com/assets/colab-badge.svg\" alt=\"Open In Colab\"/></a>"
      ]
    },
    {
      "cell_type": "code",
      "execution_count": null,
      "metadata": {
        "colab": {
          "base_uri": "https://localhost:8080/"
        },
        "id": "m8HlESw5Xajs",
        "outputId": "53c905b2-88f9-4237-c422-30fae4b5c7eb"
      },
      "outputs": [
        {
          "output_type": "stream",
          "name": "stdout",
          "text": [
            "{'name': <class 'str'>, 'age': <class 'int'>, 'weight': <class 'float'>, 'is_badman': <class 'bool'>, 'booklist': list[str], 'island': tuple[str, float, float], 'top4_familyname': dict[str, int], 'fruits': set[str]}\n",
            "{1, 2, 3, 4, 5}\n"
          ]
        }
      ],
      "source": [
        "name = '홍길동'\n",
        "age = 17\n",
        "weight = 70.7\n",
        "is_badman = False\n",
        "\n",
        "name:str = '홍길동'\n",
        "age:int = 17\n",
        "weight:float = 70.7\n",
        "is_badman:bool = False\n",
        "\n",
        "booklist:list[str] = ['삼국지', '수호지', '초한지']\n",
        "\n",
        "island:tuple[str, float, float] = ('독도', 131.52, 37.14)\n",
        "\n",
        "top4_familyname:dict[str, int] = {'김씨':123456, '나씨':345811, '박씨':963123, '이씨':865909}\n",
        "\n",
        "fruits:set[str] = {'사과', '배', '수박', '참외', '딸기'}\n",
        "\n",
        "print(__annotations__)\n",
        "\n",
        "fruits = {1,2,3,4,5}\n",
        "print(fruits)"
      ]
    },
    {
      "cell_type": "code",
      "source": [
        "userInput = input()\n",
        "print('사용자가 입력한 값은 <'+ userInput +'> 입니다.')\n"
      ],
      "metadata": {
        "colab": {
          "base_uri": "https://localhost:8080/"
        },
        "id": "9wKy8YnaXk9Q",
        "outputId": "cf4aee37-851b-4d2f-c73c-73e3681aee8f"
      },
      "execution_count": null,
      "outputs": [
        {
          "output_type": "stream",
          "name": "stdout",
          "text": [
            "10\n",
            "사용자가 입력한 값은 <10> 입니다.\n",
            "값을 입력하세요: yes\n",
            "사용자가 입력한 값은 <yes> 입니다.\n"
          ]
        }
      ]
    }
  ]
}