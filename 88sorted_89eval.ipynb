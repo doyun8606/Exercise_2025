{
  "nbformat": 4,
  "nbformat_minor": 0,
  "metadata": {
    "colab": {
      "provenance": [],
      "authorship_tag": "ABX9TyNxb5WV0uXVJ/gDEigOAw/Q",
      "include_colab_link": true
    },
    "kernelspec": {
      "name": "python3",
      "display_name": "Python 3"
    },
    "language_info": {
      "name": "python"
    }
  },
  "cells": [
    {
      "cell_type": "markdown",
      "metadata": {
        "id": "view-in-github",
        "colab_type": "text"
      },
      "source": [
        "<a href=\"https://colab.research.google.com/github/doyun8606/Exercise_2025/blob/main/88sorted_89eval.ipynb\" target=\"_parent\"><img src=\"https://colab.research.google.com/assets/colab-badge.svg\" alt=\"Open In Colab\"/></a>"
      ]
    },
    {
      "cell_type": "code",
      "execution_count": null,
      "metadata": {
        "colab": {
          "base_uri": "https://localhost:8080/"
        },
        "id": "sZnVCi3b3kgG",
        "outputId": "edc778b1-c2cd-4a87-c798-a23c65489e59"
      },
      "outputs": [
        {
          "output_type": "stream",
          "name": "stdout",
          "text": [
            "['1', '3', '5', 'a', 'a', 'i', 'k', 'k', 'k', 'k', 'n', 'n', 'n', 'n', 'r', 't', 'v', 'z']\n",
            "135aaikkkknnnnrtvz\n"
          ]
        }
      ],
      "source": [
        "randstr = 'nk315nnkakkavnzrit'\n",
        "ret = sorted(randstr)\n",
        "print(ret)\n",
        "\n",
        "final =''.join(ret)\n",
        "print(final)"
      ]
    },
    {
      "cell_type": "code",
      "source": [
        "expression = '123+456'\n",
        "answer = eval(expression)\n",
        "print(f'{expression} = {answer}')\n",
        "\n",
        "expression = 'round(3.14)'\n",
        "print(f'{expression} = {eval(expression)}')\n",
        "\n",
        "#ret = eval('안녕하세요')\n"
      ],
      "metadata": {
        "colab": {
          "base_uri": "https://localhost:8080/"
        },
        "id": "TlQ5ONPi4N6T",
        "outputId": "9b305e32-07c7-413a-a34e-515a9925f4b4"
      },
      "execution_count": null,
      "outputs": [
        {
          "output_type": "stream",
          "name": "stdout",
          "text": [
            "123+456 = 579\n",
            "round(3.14) = 3\n"
          ]
        }
      ]
    }
  ]
}