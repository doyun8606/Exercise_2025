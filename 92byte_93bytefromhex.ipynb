{
  "nbformat": 4,
  "nbformat_minor": 0,
  "metadata": {
    "colab": {
      "provenance": [],
      "authorship_tag": "ABX9TyNv4kAd/otEysVHSDytGPUl",
      "include_colab_link": true
    },
    "kernelspec": {
      "name": "python3",
      "display_name": "Python 3"
    },
    "language_info": {
      "name": "python"
    }
  },
  "cells": [
    {
      "cell_type": "markdown",
      "metadata": {
        "id": "view-in-github",
        "colab_type": "text"
      },
      "source": [
        "<a href=\"https://colab.research.google.com/github/doyun8606/Exercise_2025/blob/main/92byte_93bytefromhex.ipynb\" target=\"_parent\"><img src=\"https://colab.research.google.com/assets/colab-badge.svg\" alt=\"Open In Colab\"/></a>"
      ]
    },
    {
      "cell_type": "code",
      "execution_count": null,
      "metadata": {
        "colab": {
          "base_uri": "https://localhost:8080/"
        },
        "id": "4zn8cnffjQFQ",
        "outputId": "3b20b37b-0e67-47f1-9d1c-a32baabff34b"
      },
      "outputs": [
        {
          "output_type": "stream",
          "name": "stdout",
          "text": [
            "False\n",
            "b'\\xed\\x8c\\x8c\\xec\\x9d\\xb4\\xec\\x8d\\xac'\n",
            "b'\\xec\\x82\\xac\\xeb\\x9e\\x91\\xed\\x95\\xb4\\xec\\x9a\\x94 python!'\n"
          ]
        }
      ],
      "source": [
        "strData = 'python'\n",
        "bytesData = b'python'\n",
        "print(strData[0]==bytesData[0])\n",
        "\n",
        "bytesData1 = b'python'\n",
        "\"\"\"bytesData2 = b'파이썬'\"\"\"\n",
        "\n",
        "bytesData = '파이썬'.encode()\n",
        "print(bytesData)\n",
        "\n",
        "bytesData = bytes('사랑해요 python!', 'utf-8')\n",
        "print(bytesData)"
      ]
    },
    {
      "cell_type": "code",
      "source": [
        "bytesData = bytes.fromhex('50 79 74 68 6f 6e f8 fa')\n",
        "print(bytesData)"
      ],
      "metadata": {
        "colab": {
          "base_uri": "https://localhost:8080/"
        },
        "id": "Ty31MAgV_4Pd",
        "outputId": "dcaeceda-7453-403b-b6a6-1bbee336a1c7"
      },
      "execution_count": null,
      "outputs": [
        {
          "output_type": "stream",
          "name": "stdout",
          "text": [
            "b'Python\\xf8\\xfa'\n"
          ]
        }
      ]
    }
  ]
}