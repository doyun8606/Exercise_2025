{
  "nbformat": 4,
  "nbformat_minor": 0,
  "metadata": {
    "colab": {
      "provenance": [],
      "authorship_tag": "ABX9TyPLNyrlL/0CRDzM8MoYRF/n",
      "include_colab_link": true
    },
    "kernelspec": {
      "name": "python3",
      "display_name": "Python 3"
    },
    "language_info": {
      "name": "python"
    }
  },
  "cells": [
    {
      "cell_type": "markdown",
      "metadata": {
        "id": "view-in-github",
        "colab_type": "text"
      },
      "source": [
        "<a href=\"https://colab.research.google.com/github/doyun8606/Exercise_2025/blob/main/54enumerate_55reversed.ipynb\" target=\"_parent\"><img src=\"https://colab.research.google.com/assets/colab-badge.svg\" alt=\"Open In Colab\"/></a>"
      ]
    },
    {
      "cell_type": "code",
      "execution_count": null,
      "metadata": {
        "colab": {
          "base_uri": "https://localhost:8080/"
        },
        "id": "m1-naf_udS-a",
        "outputId": "a70318be-fd53-4e19-94f1-1386f713d2db"
      },
      "outputs": [
        {
          "output_type": "stream",
          "name": "stdout",
          "text": [
            "태양계의 0번째 천체: 태양\n",
            "태양계의 1번째 천체: 수성\n",
            "태양계의 2번째 천체: 금성\n",
            "태양계의 3번째 천체: 지구\n",
            "태양계의 4번째 천체: 화성\n",
            "태양계의 5번째 천체: 목성\n",
            "태양계의 6번째 천체: 토성\n",
            "태양계의 7번째 천체: 천왕성\n",
            "태양계의 8번째 천체: 해왕성\n",
            "[(1, '봄'), (2, '여름'), (3, '가을'), (4, '겨울')]\n",
            "[(1, '봄'), (2, '여름'), (3, '가을'), (4, '겨울')]\n"
          ]
        }
      ],
      "source": [
        "solarsys = ['태양','수성','금성','지구','화성','목성','토성','천왕성','해왕성']\n",
        "for i, body in enumerate(solarsys):\n",
        "  print(f'태양계의 {i}번째 천체: {body}')\n",
        "\n",
        "seasons = ['봄','여름','가을','겨울']\n",
        "print(list(enumerate(seasons, start=1)))\n",
        "\n",
        "#enumerate()를 구현한 제너레이터\\\n",
        "def myEnumerate(iterable, start=0):\n",
        "  n = start\n",
        "  for item in iterable:\n",
        "    yield (n,item)\n",
        "    n += 1\n",
        "print(list(myEnumerate(seasons, start=1)))"
      ]
    },
    {
      "cell_type": "code",
      "source": [
        "fruits = ('사과','배','오렌지','수박')\n",
        "ret = reversed(fruits)\n",
        "print(list(ret))\n",
        "\n",
        "print(fruits)\n",
        "\n",
        "for i in reversed(range(1,6)):\n",
        "  print(i)"
      ],
      "metadata": {
        "colab": {
          "base_uri": "https://localhost:8080/"
        },
        "id": "ybTR-ecofEEP",
        "outputId": "c29f073a-f2f8-4314-a6ec-1bef1a0ab593"
      },
      "execution_count": null,
      "outputs": [
        {
          "output_type": "stream",
          "name": "stdout",
          "text": [
            "['수박', '오렌지', '배', '사과']\n",
            "('사과', '배', '오렌지', '수박')\n",
            "5\n",
            "4\n",
            "3\n",
            "2\n",
            "1\n"
          ]
        }
      ]
    }
  ]
}