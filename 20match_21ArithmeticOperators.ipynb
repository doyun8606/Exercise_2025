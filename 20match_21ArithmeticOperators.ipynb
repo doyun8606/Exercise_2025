{
  "nbformat": 4,
  "nbformat_minor": 0,
  "metadata": {
    "colab": {
      "provenance": [],
      "name": "20match_21ArithmeticOperators.ipynb",
      "authorship_tag": "ABX9TyP1sUJxem3rzQuleXLyjEkg",
      "include_colab_link": true
    },
    "kernelspec": {
      "name": "python3",
      "display_name": "Python 3"
    },
    "language_info": {
      "name": "python"
    }
  },
  "cells": [
    {
      "cell_type": "markdown",
      "metadata": {
        "id": "view-in-github",
        "colab_type": "text"
      },
      "source": [
        "<a href=\"https://colab.research.google.com/github/doyun8606/Exercise_2025/blob/main/20match_21ArithmeticOperators.ipynb\" target=\"_parent\"><img src=\"https://colab.research.google.com/assets/colab-badge.svg\" alt=\"Open In Colab\"/></a>"
      ]
    },
    {
      "cell_type": "code",
      "execution_count": null,
      "metadata": {
        "colab": {
          "base_uri": "https://localhost:8080/"
        },
        "id": "fFn8l_EEjXmx",
        "outputId": "a60cefb3-245a-45b3-e94c-8fff5d3a4a23"
      },
      "outputs": [
        {
          "output_type": "stream",
          "name": "stdout",
          "text": [
            "Bad Request\n",
            "Redirection\n",
            "원점 좌표\n"
          ]
        }
      ],
      "source": [
        "http_status = 400\n",
        "match http_status:\n",
        "  case 400:\n",
        "    print('Bad Request')\n",
        "  case 401:\n",
        "    print('Unauthorized')\n",
        "  case 403:\n",
        "    print('Forbidden')\n",
        "  case _:\n",
        "    print(['기타 인터넷 문제로 뭔가 잘못됨'])\n",
        "\n",
        "\n",
        "http_status = 302\n",
        "match http_status:\n",
        "  case 200 | 202 | 203:\n",
        "    print('Success')\n",
        "  case 301 | 302 | 303:\n",
        "    print('Redirection')\n",
        "  case 400 | 401 | 403 | 404:\n",
        "    print('Client Errors')\n",
        "  case _:\n",
        "    print('기타 HTTP 응답 코드')\\\n",
        "\n",
        "point = (0,0)\n",
        "#point(1,0)\n",
        "#point(0,1)\n",
        "#point(1,1)\n",
        "match point:\n",
        "  case (0,0):\n",
        "    print('원점 좌표')\n",
        "  case (x,0):\n",
        "    print(f'x축 위의 점이며 x의 값은 {x}')\n",
        "  case (0,Y):\n",
        "    print(f'y축 위의 점이며 y의 값은 {y}')\n",
        "  case (x,y):\n",
        "    print(f'(x,y) =({x},{y})')\n",
        "  case _:\n",
        "    print('오류: 2차원 좌표가 아님')\n"
      ]
    },
    {
      "cell_type": "code",
      "source": [
        "x = 2\n",
        "y = 4\n",
        "print(x*y)\n",
        "print(x/y)\n",
        "print(x**y)\n",
        "\n",
        "x = 5\n",
        "y = 2\n",
        "print(x//y) #5를 2로 나눈 몫\n",
        "print(x % y) #5를 2로 나눈 나머지"
      ],
      "metadata": {
        "colab": {
          "base_uri": "https://localhost:8080/"
        },
        "id": "pLBPf_patUmx",
        "outputId": "f1497eab-7aec-450a-89a6-99a2cc4aad23"
      },
      "execution_count": null,
      "outputs": [
        {
          "output_type": "stream",
          "name": "stdout",
          "text": [
            "8\n",
            "0.5\n",
            "16\n",
            "2\n",
            "1\n"
          ]
        }
      ]
    }
  ]
}