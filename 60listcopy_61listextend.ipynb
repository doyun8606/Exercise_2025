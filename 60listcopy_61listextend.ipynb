{
  "nbformat": 4,
  "nbformat_minor": 0,
  "metadata": {
    "colab": {
      "provenance": [],
      "authorship_tag": "ABX9TyMsbJEVwPgL5+VZfErlUlKW",
      "include_colab_link": true
    },
    "kernelspec": {
      "name": "python3",
      "display_name": "Python 3"
    },
    "language_info": {
      "name": "python"
    }
  },
  "cells": [
    {
      "cell_type": "markdown",
      "metadata": {
        "id": "view-in-github",
        "colab_type": "text"
      },
      "source": [
        "<a href=\"https://colab.research.google.com/github/doyun8606/Exercise_2025/blob/main/60listcopy_61listextend.ipynb\" target=\"_parent\"><img src=\"https://colab.research.google.com/assets/colab-badge.svg\" alt=\"Open In Colab\"/></a>"
      ]
    },
    {
      "cell_type": "code",
      "execution_count": null,
      "metadata": {
        "colab": {
          "base_uri": "https://localhost:8080/"
        },
        "id": "Vefz_ZoTmTQb",
        "outputId": "a5747532-41d4-49f6-bd78-eb573871b697"
      },
      "outputs": [
        {
          "output_type": "stream",
          "name": "stdout",
          "text": [
            "원본 리스트:['사과', '배', '오렌지', '수박', '참외']\n",
            "복사본 리스트:['사과', '배', '오렌지', '수박']\n"
          ]
        }
      ],
      "source": [
        "fruits = ['사과','배','오렌지','수박','참외']\n",
        "buffer = fruits.copy()\n",
        "del buffer[-1]\n",
        "print(f'원본 리스트:{fruits}')\n",
        "print(f'복사본 리스트:{buffer}')"
      ]
    },
    {
      "cell_type": "code",
      "source": [
        "world = []\n",
        "asia = ['한국','중국','일본']\n",
        "europe = ['독일','프랑스','영국']\n",
        "america = ['미국','캐나다','멕시코']\n",
        "\n",
        "world.extend(asia)\n",
        "print(world)\n",
        "\n",
        "world.extend(europe)\n",
        "print(world)\n",
        "world.extend(america)\n",
        "print(world)\n",
        "\n",
        "world.clear()\n",
        "world += asia\n",
        "world += europe\n",
        "print(world)"
      ],
      "metadata": {
        "colab": {
          "base_uri": "https://localhost:8080/"
        },
        "id": "mVzYz0-Im8X6",
        "outputId": "9ec44f01-5407-4fe6-988c-f48b001acf1a"
      },
      "execution_count": null,
      "outputs": [
        {
          "output_type": "stream",
          "name": "stdout",
          "text": [
            "['한국', '중국', '일본']\n",
            "['한국', '중국', '일본', '독일', '프랑스', '영국']\n",
            "['한국', '중국', '일본', '독일', '프랑스', '영국', '미국', '캐나다', '멕시코']\n",
            "['한국', '중국', '일본', '독일', '프랑스', '영국']\n"
          ]
        }
      ]
    }
  ]
}