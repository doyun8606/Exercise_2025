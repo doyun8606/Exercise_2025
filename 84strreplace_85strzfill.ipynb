{
  "nbformat": 4,
  "nbformat_minor": 0,
  "metadata": {
    "colab": {
      "provenance": [],
      "authorship_tag": "ABX9TyMnEGDxdjfrqxBbMC+u+uMa",
      "include_colab_link": true
    },
    "kernelspec": {
      "name": "python3",
      "display_name": "Python 3"
    },
    "language_info": {
      "name": "python"
    }
  },
  "cells": [
    {
      "cell_type": "markdown",
      "metadata": {
        "id": "view-in-github",
        "colab_type": "text"
      },
      "source": [
        "<a href=\"https://colab.research.google.com/github/doyun8606/Exercise_2025/blob/main/84strreplace_85strzfill.ipynb\" target=\"_parent\"><img src=\"https://colab.research.google.com/assets/colab-badge.svg\" alt=\"Open In Colab\"/></a>"
      ]
    },
    {
      "cell_type": "code",
      "execution_count": null,
      "metadata": {
        "colab": {
          "base_uri": "https://localhost:8080/"
        },
        "id": "ule9ds8VrPGx",
        "outputId": "baafee31-1dc0-4c2b-8de2-efd72bb558ce"
      },
      "outputs": [
        {
          "output_type": "stream",
          "name": "stdout",
          "text": [
            "텍스트: 파이썬에서 시퀀스 자료중 하나임\n",
            "매사건 많은 사건들이 사건어납니다.\n"
          ]
        }
      ],
      "source": [
        "text = '문자열: 파이썬에서 시퀀스 자료중 하나임'\n",
        "ret = text.replace('문자열', '텍스트')\n",
        "print(ret)\n",
        "\n",
        "text = '매일 많은 일들이 일어납니다.'\n",
        "ret = text.replace('일','사건')\n",
        "print(ret)"
      ]
    },
    {
      "cell_type": "code",
      "source": [
        "numData = ['5','27','342','1004']\n",
        "for numstr in numData:\n",
        "  ret = numstr.zfill(4)\n",
        "  print(ret)\n",
        "\n",
        "numData = ['-5','-27','-342','-1004']\n",
        "for numstr in numData:\n",
        "  ret = numstr.zfill(4)\n",
        "  print(ret)"
      ],
      "metadata": {
        "colab": {
          "base_uri": "https://localhost:8080/"
        },
        "id": "8STlvh7v1IMS",
        "outputId": "082056fd-f171-441b-e976-171db8c02111"
      },
      "execution_count": null,
      "outputs": [
        {
          "output_type": "stream",
          "name": "stdout",
          "text": [
            "0005\n",
            "0027\n",
            "0342\n",
            "1004\n",
            "-005\n",
            "-027\n",
            "-342\n",
            "-1004\n"
          ]
        }
      ]
    }
  ]
}