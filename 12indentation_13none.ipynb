{
  "nbformat": 4,
  "nbformat_minor": 0,
  "metadata": {
    "colab": {
      "provenance": [],
      "authorship_tag": "ABX9TyPQDwV9aEj8QsRC7HsOdIv5",
      "include_colab_link": true
    },
    "kernelspec": {
      "name": "python3",
      "display_name": "Python 3"
    },
    "language_info": {
      "name": "python"
    }
  },
  "cells": [
    {
      "cell_type": "markdown",
      "metadata": {
        "id": "view-in-github",
        "colab_type": "text"
      },
      "source": [
        "<a href=\"https://colab.research.google.com/github/doyun8606/Exercise_2025/blob/main/12indentation_13none.ipynb\" target=\"_parent\"><img src=\"https://colab.research.google.com/assets/colab-badge.svg\" alt=\"Open In Colab\"/></a>"
      ]
    },
    {
      "cell_type": "code",
      "execution_count": null,
      "metadata": {
        "colab": {
          "base_uri": "https://localhost:8080/"
        },
        "id": "Yfy53WhPawS6",
        "outputId": "d30382a2-81ce-427f-f4ed-20c0c5a2fd03"
      },
      "outputs": [
        {
          "output_type": "stream",
          "name": "stdout",
          "text": [
            "\"a\"가 listData에 요소로 존재합니다.\n",
            "\"a\"가 listData에 요소로 존재합니다.\n"
          ]
        }
      ],
      "source": [
        "listData = ['a', 'b', 'c']\n",
        "if 'a' in listData:\n",
        "  print('\"a\"가 listData에 요소로 존재합니다.')\n",
        "else:\n",
        "  print('\"a\"가 listData에 요소로 존재하지 않습니다.')\n",
        "\n",
        "listData = ['a', 'b', 'c']\n",
        "if 'a' in listData:print('\"a\"가 listData에 요소로 존재합니다.')"
      ]
    },
    {
      "cell_type": "code",
      "source": [
        "val = None\n",
        "flag = True\n",
        "if flag:\n",
        "  val = [1,2,3,4,5]\n",
        "else:\n",
        "  val = '안녕하세요 파이썬!'"
      ],
      "metadata": {
        "id": "-hPoxVRba4SN"
      },
      "execution_count": null,
      "outputs": []
    }
  ]
}