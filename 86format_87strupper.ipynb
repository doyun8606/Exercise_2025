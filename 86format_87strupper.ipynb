{
  "nbformat": 4,
  "nbformat_minor": 0,
  "metadata": {
    "colab": {
      "provenance": [],
      "authorship_tag": "ABX9TyMkyzyDWRAf5rMfuvsLh379",
      "include_colab_link": true
    },
    "kernelspec": {
      "name": "python3",
      "display_name": "Python 3"
    },
    "language_info": {
      "name": "python"
    }
  },
  "cells": [
    {
      "cell_type": "markdown",
      "metadata": {
        "id": "view-in-github",
        "colab_type": "text"
      },
      "source": [
        "<a href=\"https://colab.research.google.com/github/doyun8606/Exercise_2025/blob/main/86format_87strupper.ipynb\" target=\"_parent\"><img src=\"https://colab.research.google.com/assets/colab-badge.svg\" alt=\"Open In Colab\"/></a>"
      ]
    },
    {
      "cell_type": "code",
      "execution_count": null,
      "metadata": {
        "colab": {
          "base_uri": "https://localhost:8080/"
        },
        "id": "p4GJyD7I2K-E",
        "outputId": "33b20e1f-8db7-4819-8e88-09641eff8602"
      },
      "outputs": [
        {
          "output_type": "stream",
          "name": "stdout",
          "text": [
            "001-유비\n",
            "002-관우\n",
            "003-장비\n",
            "004-조운\n",
            "005-제갈량\n"
          ]
        }
      ],
      "source": [
        "names = ['유비','관우','장비','조운','제갈량']\n",
        "for idx, name in enumerate(names, start=1):\n",
        "  order = format(idx,'03')\n",
        "  print(f'{order}-{name}')\n"
      ]
    },
    {
      "cell_type": "code",
      "source": [
        "lyrics = 'A lot of Things occur Each Day!'\n",
        "print(lyrics.upper())\n",
        "print(lyrics.lower())\n",
        "print(lyrics)"
      ],
      "metadata": {
        "colab": {
          "base_uri": "https://localhost:8080/"
        },
        "id": "sPoD3TF-3O1M",
        "outputId": "87788ce8-2c38-4e9d-d1e8-7c99d8251e1a"
      },
      "execution_count": null,
      "outputs": [
        {
          "output_type": "stream",
          "name": "stdout",
          "text": [
            "A LOT OF THINGS OCCUR EACH DAY!\n",
            "a lot of things occur each day!\n",
            "A lot of Things occur Each Day!\n"
          ]
        }
      ]
    }
  ]
}