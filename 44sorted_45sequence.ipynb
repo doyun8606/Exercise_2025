{
  "nbformat": 4,
  "nbformat_minor": 0,
  "metadata": {
    "colab": {
      "provenance": [],
      "authorship_tag": "ABX9TyNadD5Ze0z812XtINHE4H6a",
      "include_colab_link": true
    },
    "kernelspec": {
      "name": "python3",
      "display_name": "Python 3"
    },
    "language_info": {
      "name": "python"
    }
  },
  "cells": [
    {
      "cell_type": "markdown",
      "metadata": {
        "id": "view-in-github",
        "colab_type": "text"
      },
      "source": [
        "<a href=\"https://colab.research.google.com/github/doyun8606/Exercise_2025/blob/main/44sorted_45sequence.ipynb\" target=\"_parent\"><img src=\"https://colab.research.google.com/assets/colab-badge.svg\" alt=\"Open In Colab\"/></a>"
      ]
    },
    {
      "cell_type": "code",
      "execution_count": null,
      "metadata": {
        "colab": {
          "base_uri": "https://localhost:8080/"
        },
        "id": "Ai7NjHdJOfUN",
        "outputId": "a2a4ecfb-59f6-453e-f8a0-de46d64a2a13"
      },
      "outputs": [
        {
          "output_type": "stream",
          "name": "stdout",
          "text": [
            "[1, 8, 27, 39, 42, 44]\n",
            "[44, 42, 39, 27, 8, 1]\n",
            "[42, 1, 39, 27, 44, 8]\n",
            "['배', '사과', '수박', '오렌지', '참외']\n",
            "[' ', ' ', '!', 'I', 'e', 'h', 'l', 'n', 'o', 'o', 'p', 't', 'v', 'y']\n",
            "['김씨', '박씨', '이씨']\n"
          ]
        }
      ],
      "source": [
        "listData = [42,1,39,27,44,8]\n",
        "ret1 = sorted(listData)                # listData를 오름차순으로 정렬\n",
        "ret2 = sorted(listData, reverse=True)  # listData를 내림차순으로 정렬\n",
        "print(ret1)\n",
        "print(ret2)\n",
        "print(listData)\n",
        "\n",
        "tupleData = ('사과','배','오렌지','수박','참외')\n",
        "ret = sorted(tupleData)\n",
        "print(ret)\n",
        "\n",
        "strData = 'I love python!'\n",
        "ret = sorted(strData)\n",
        "print(ret)\n",
        "\n",
        "population = {'김씨':2834,'이씨':2288,'박씨':1889}\n",
        "ret = sorted(population)\n",
        "print(ret)"
      ]
    },
    {
      "cell_type": "code",
      "source": [
        "listData = [1,2,3,4,5]\n",
        "\n",
        "tupleData = (1,2,3,4,5)\n",
        "\n",
        "strData1 = '010-1234-5678'\n",
        "strData2 = \"사랑해요 파이썬!\"\n",
        "strData3 = 'I love python!'\\\n",
        "\n",
        "bstr = b'Hello Python!'"
      ],
      "metadata": {
        "id": "yk7hQH7IRPd1"
      },
      "execution_count": null,
      "outputs": []
    }
  ]
}