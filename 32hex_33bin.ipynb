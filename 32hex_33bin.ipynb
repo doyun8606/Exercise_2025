{
  "nbformat": 4,
  "nbformat_minor": 0,
  "metadata": {
    "colab": {
      "provenance": [],
      "authorship_tag": "ABX9TyPVrDSRzzJtFGU6oyqTfWRR",
      "include_colab_link": true
    },
    "kernelspec": {
      "name": "python3",
      "display_name": "Python 3"
    },
    "language_info": {
      "name": "python"
    }
  },
  "cells": [
    {
      "cell_type": "markdown",
      "metadata": {
        "id": "view-in-github",
        "colab_type": "text"
      },
      "source": [
        "<a href=\"https://colab.research.google.com/github/doyun8606/Exercise_2025/blob/main/32hex_33bin.ipynb\" target=\"_parent\"><img src=\"https://colab.research.google.com/assets/colab-badge.svg\" alt=\"Open In Colab\"/></a>"
      ]
    },
    {
      "cell_type": "code",
      "execution_count": null,
      "metadata": {
        "colab": {
          "base_uri": "https://localhost:8080/"
        },
        "id": "QKx9hTS2niIr",
        "outputId": "60f5f14b-3415-4806-b7d3-4e0feb5cf5df"
      },
      "outputs": [
        {
          "output_type": "stream",
          "name": "stdout",
          "text": [
            "0x61\n",
            "0x62\n",
            "0x610x62\n",
            "0x11+0x2a=0x3b\n"
          ]
        }
      ],
      "source": [
        "h1 = hex(97)\n",
        "h2 = hex(98)\n",
        "print(h1)\n",
        "print(h2)\n",
        "\n",
        "print(h1+h2)\n",
        "\n",
        "hexStr1 = '0x11'\n",
        "hexStr2 = '0x2a'\n",
        "int1 = int(hexStr1, base=16)\n",
        "int2 = int(hexStr2, base=16)\n",
        "hexAnswer = hex(int1 + int2)\n",
        "print(f'{hexStr1}+{hexStr2}={hexAnswer}')"
      ]
    },
    {
      "cell_type": "code",
      "source": [
        "b1 = bin(97)\n",
        "b2 = bin(98)\n",
        "print(b1)\n",
        "print(b2)\n",
        "\n",
        "print(b1 + b2)\n",
        "\n",
        "binStr1 = '0b1011'\n",
        "binStr2 = '0b1001'\n",
        "int1 = int(binStr1, base =2)\n",
        "int2 = int(binStr2, base =2)\n",
        "binAnswer = bin(int1 + int2)\n",
        "print(f'{binStr1}+{binStr2}={binAnswer}')"
      ],
      "metadata": {
        "colab": {
          "base_uri": "https://localhost:8080/"
        },
        "id": "9dpPWHwgoiep",
        "outputId": "fb7a5193-ddd3-4645-a342-44d126230ba7"
      },
      "execution_count": null,
      "outputs": [
        {
          "output_type": "stream",
          "name": "stdout",
          "text": [
            "0b1100001\n",
            "0b1100010\n",
            "0b11000010b1100010\n",
            "0b1011+0b1001=0b10100\n"
          ]
        }
      ]
    }
  ]
}