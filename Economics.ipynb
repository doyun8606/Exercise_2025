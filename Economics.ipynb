{
  "nbformat": 4,
  "nbformat_minor": 0,
  "metadata": {
    "colab": {
      "provenance": [],
      "name": "Economics.ipynb",
      "authorship_tag": "ABX9TyPLa9VhEv93vdVULYrrIrew",
      "include_colab_link": true
    },
    "kernelspec": {
      "name": "python3",
      "display_name": "Python 3"
    },
    "language_info": {
      "name": "python"
    }
  },
  "cells": [
    {
      "cell_type": "markdown",
      "metadata": {
        "id": "view-in-github",
        "colab_type": "text"
      },
      "source": [
        "<a href=\"https://colab.research.google.com/github/doyun8606/Exercise_2025/blob/main/Economics.ipynb\" target=\"_parent\"><img src=\"https://colab.research.google.com/assets/colab-badge.svg\" alt=\"Open In Colab\"/></a>"
      ]
    },
    {
      "cell_type": "markdown",
      "source": [
        "# ✏️📃 **About <font color = 'red'> Department of Economics </font> of hannam univ.**\n",
        "\n",
        "## **Department of Economics hompage>>>[Click here.](https://enc.hannam.ac.kr/)**\n",
        "\n",
        "--------------------------------------------------------------------------------\n",
        "\n",
        "\n"
      ],
      "metadata": {
        "id": "KmE7sU0JH5rZ"
      }
    },
    {
      "cell_type": "markdown",
      "source": [
        "## **<font color = 'blue'> What we learn**\n",
        "\n",
        "## economic\n",
        "*-A study that analyzes and studies economic phenomena. It is a branch of social science that encompasses national economics, business administration, finance, and family studies, and generally refers to national economics.*\n",
        "\n",
        "\n",
        "## Curriculum\n",
        "| semester | subject |\n",
        "|:--:|:--:|\n",
        "| 1 | Principles of Economics |\n",
        "| 2 | Principles of Accounting |\n",
        "| 2 | Principles of Management |\n",
        "| 2 | Introduction to Modern Economics |\n",
        "| 2 | Economic Mathematics |\n",
        "\n",
        "## **How to come**\n",
        "### Department of Economics is located in no.6 building, College of Business and Economics building."
      ],
      "metadata": {
        "id": "rWPUgjqEKuqh"
      }
    }
  ]
}