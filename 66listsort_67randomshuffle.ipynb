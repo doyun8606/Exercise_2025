{
  "nbformat": 4,
  "nbformat_minor": 0,
  "metadata": {
    "colab": {
      "provenance": [],
      "authorship_tag": "ABX9TyMooRkBzD8qENSjl8IGb9a1",
      "include_colab_link": true
    },
    "kernelspec": {
      "name": "python3",
      "display_name": "Python 3"
    },
    "language_info": {
      "name": "python"
    }
  },
  "cells": [
    {
      "cell_type": "markdown",
      "metadata": {
        "id": "view-in-github",
        "colab_type": "text"
      },
      "source": [
        "<a href=\"https://colab.research.google.com/github/doyun8606/Exercise_2025/blob/main/66listsort_67randomshuffle.ipynb\" target=\"_parent\"><img src=\"https://colab.research.google.com/assets/colab-badge.svg\" alt=\"Open In Colab\"/></a>"
      ]
    },
    {
      "cell_type": "code",
      "execution_count": null,
      "metadata": {
        "colab": {
          "base_uri": "https://localhost:8080/"
        },
        "id": "hePl9m4etrqL",
        "outputId": "95e08b12-e33e-4382-9896-f6095b03e951"
      },
      "outputs": [
        {
          "output_type": "stream",
          "name": "stdout",
          "text": [
            "['Aemy', 'Bob', 'Kelly', 'Mary', 'Michale', 'Sams', 'Tom']\n",
            "['Tom', 'Sams', 'Michale', 'Mary', 'Kelly', 'Bob', 'Aemy']\n"
          ]
        }
      ],
      "source": [
        "nameList=['Mary','Sams','Aemy','Tom','Michale','Bob','Kelly']\n",
        "nameList.sort()\n",
        "print(nameList)\n",
        "\n",
        "nameList=['Mary','Sams','Aemy','Tom','Michale','Bob','Kelly']\n",
        "nameList.sort(reverse=True)\n",
        "print(nameList)"
      ]
    },
    {
      "cell_type": "code",
      "source": [
        "import random\n",
        "numList = list(range(1,11))\n",
        "random.shuffle(numList)\n",
        "print(numList)\n",
        "\n",
        "numList = list(range(1,11))\n",
        "copied = numList.copy()\n",
        "random.shuffle(copied)\n",
        "print(f'numList:{numList}')\n",
        "print(f'copied:{copied}')"
      ],
      "metadata": {
        "colab": {
          "base_uri": "https://localhost:8080/"
        },
        "id": "x_9bzr1OwcKG",
        "outputId": "d7099a32-93f7-4dcc-91ea-3cb997360d8a"
      },
      "execution_count": null,
      "outputs": [
        {
          "output_type": "stream",
          "name": "stdout",
          "text": [
            "[2, 7, 4, 10, 8, 5, 3, 1, 9, 6]\n",
            "numList:[1, 2, 3, 4, 5, 6, 7, 8, 9, 10]\n",
            "copied:[3, 8, 5, 9, 4, 7, 6, 10, 1, 2]\n"
          ]
        }
      ]
    }
  ]
}