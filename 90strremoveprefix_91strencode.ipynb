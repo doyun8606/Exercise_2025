{
  "nbformat": 4,
  "nbformat_minor": 0,
  "metadata": {
    "colab": {
      "provenance": [],
      "authorship_tag": "ABX9TyM75hUKg6iA8dxoWpJ3Gfkg",
      "include_colab_link": true
    },
    "kernelspec": {
      "name": "python3",
      "display_name": "Python 3"
    },
    "language_info": {
      "name": "python"
    }
  },
  "cells": [
    {
      "cell_type": "markdown",
      "metadata": {
        "id": "view-in-github",
        "colab_type": "text"
      },
      "source": [
        "<a href=\"https://colab.research.google.com/github/doyun8606/Exercise_2025/blob/main/90strremoveprefix_91strencode.ipynb\" target=\"_parent\"><img src=\"https://colab.research.google.com/assets/colab-badge.svg\" alt=\"Open In Colab\"/></a>"
      ]
    },
    {
      "cell_type": "code",
      "execution_count": null,
      "metadata": {
        "colab": {
          "base_uri": "https://localhost:8080/"
        },
        "id": "fKpseUsw06m_",
        "outputId": "4e94b898-a998-41e6-a3c3-28034540623e"
      },
      "outputs": [
        {
          "output_type": "stream",
          "name": "stdout",
          "text": [
            "Seoul is the capital of Korea.\n",
            "이것으로 문장을 마무리합니다.\n"
          ]
        }
      ],
      "source": [
        "strData = '[info]Seoul is the capital of Korea.'\n",
        "cityinfo = strData.removeprefix('[info]')\n",
        "print(cityinfo)\n",
        "\n",
        "strData = '이것으로 문장을 마무리합니다.<EOD>'\n",
        "ret = strData.removesuffix('<EOD>')\n",
        "print(ret)\n"
      ]
    },
    {
      "cell_type": "code",
      "source": [
        "strData = 'python'\n",
        "byteData = strData.encode()\n",
        "print(byteData)\n",
        "\n",
        "for idx, c in enumerate(strData):\n",
        "  print(f'strData[{idx}] = {c}')\n",
        "\n",
        "for idx, c in enumerate(byteData):\n",
        "  print(f'byteData[{idx}] = {c}, {hex(c)}')"
      ],
      "metadata": {
        "colab": {
          "base_uri": "https://localhost:8080/"
        },
        "id": "BC5Y-PepBDbM",
        "outputId": "a0e5f7a8-9bc6-492b-a757-877dc479b507"
      },
      "execution_count": null,
      "outputs": [
        {
          "output_type": "stream",
          "name": "stdout",
          "text": [
            "b'python'\n",
            "strData[0] = p\n",
            "strData[1] = y\n",
            "strData[2] = t\n",
            "strData[3] = h\n",
            "strData[4] = o\n",
            "strData[5] = n\n",
            "byteData[0] = 112, 0x70\n",
            "byteData[1] = 121, 0x79\n",
            "byteData[2] = 116, 0x74\n",
            "byteData[3] = 104, 0x68\n",
            "byteData[4] = 111, 0x6f\n",
            "byteData[5] = 110, 0x6e\n"
          ]
        }
      ]
    }
  ]
}