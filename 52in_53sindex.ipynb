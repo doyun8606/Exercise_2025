{
  "nbformat": 4,
  "nbformat_minor": 0,
  "metadata": {
    "colab": {
      "provenance": [],
      "authorship_tag": "ABX9TyP1gyeohJvxImXalr0SuQsW",
      "include_colab_link": true
    },
    "kernelspec": {
      "name": "python3",
      "display_name": "Python 3"
    },
    "language_info": {
      "name": "python"
    }
  },
  "cells": [
    {
      "cell_type": "markdown",
      "metadata": {
        "id": "view-in-github",
        "colab_type": "text"
      },
      "source": [
        "<a href=\"https://colab.research.google.com/github/doyun8606/Exercise_2025/blob/main/52in_53sindex.ipynb\" target=\"_parent\"><img src=\"https://colab.research.google.com/assets/colab-badge.svg\" alt=\"Open In Colab\"/></a>"
      ]
    },
    {
      "cell_type": "code",
      "execution_count": null,
      "metadata": {
        "colab": {
          "base_uri": "https://localhost:8080/"
        },
        "id": "bzdvOxjlbDQR",
        "outputId": "b421c2de-67ec-4ef3-8ae8-0508c7d9b2da"
      },
      "outputs": [
        {
          "output_type": "stream",
          "name": "stdout",
          "text": [
            "True\n",
            "True\n",
            "url4가 urlList의 요소로 존재하지 않습니다.\n"
          ]
        }
      ],
      "source": [
        "'''x in s # x가 s의 요소로 존재하면 True\n",
        "x not in s # x가 s의 요소로 존재하지 않으면 True'''\n",
        "\n",
        "lyrics = 'A lot of things occur each day! every day!'\n",
        "flag = 'things' in lyrics\n",
        "print(flag)\n",
        "\n",
        "flag = 'today' not in lyrics\n",
        "print(flag)\n",
        "\n",
        "urlList = ['url1','url2','url3']\n",
        "if 'url4' in urlList:\n",
        "  print('url4가 urlList의 요소로 존재합니다.')\n",
        "else:\n",
        "  print('url4가 urlList의 요소로 존재하지 않습니다.')\n"
      ]
    },
    {
      "cell_type": "code",
      "source": [
        "fruits = ('사과','배','참외','수박','배','오렌지')\n",
        "pos = fruits.index('배',3)\n",
        "print(f'배는 {pos+1}번쨰 과일입니다.')\n",
        "\n",
        "'''pos = fruits.index('사과',3)\n",
        "print(f'사과는 {pos+1}번쨰 과일입니다.')'''\n",
        "\n",
        "\n"
      ],
      "metadata": {
        "colab": {
          "base_uri": "https://localhost:8080/",
          "height": 54
        },
        "id": "vgTBZdWEcTTQ",
        "outputId": "168457bd-daf2-4c38-d7af-050352ac630f"
      },
      "execution_count": null,
      "outputs": [
        {
          "output_type": "stream",
          "name": "stdout",
          "text": [
            "배는 5번쨰 과일입니다.\n"
          ]
        },
        {
          "output_type": "execute_result",
          "data": {
            "text/plain": [
              "\"pos = fruits.index('사과',3)\\nprint(f'사과는 {pos+1}번쨰 과일입니다.')\""
            ],
            "application/vnd.google.colaboratory.intrinsic+json": {
              "type": "string"
            }
          },
          "metadata": {},
          "execution_count": 6
        }
      ]
    }
  ]
}