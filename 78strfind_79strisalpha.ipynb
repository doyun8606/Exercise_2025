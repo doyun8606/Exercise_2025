{
  "nbformat": 4,
  "nbformat_minor": 0,
  "metadata": {
    "colab": {
      "provenance": [],
      "authorship_tag": "ABX9TyNDjchlN8Dof2ncGdsEZfR6",
      "include_colab_link": true
    },
    "kernelspec": {
      "name": "python3",
      "display_name": "Python 3"
    },
    "language_info": {
      "name": "python"
    }
  },
  "cells": [
    {
      "cell_type": "markdown",
      "metadata": {
        "id": "view-in-github",
        "colab_type": "text"
      },
      "source": [
        "<a href=\"https://colab.research.google.com/github/doyun8606/Exercise_2025/blob/main/78strfind_79strisalpha.ipynb\" target=\"_parent\"><img src=\"https://colab.research.google.com/assets/colab-badge.svg\" alt=\"Open In Colab\"/></a>"
      ]
    },
    {
      "cell_type": "code",
      "execution_count": null,
      "metadata": {
        "colab": {
          "base_uri": "https://localhost:8080/"
        },
        "id": "Ta4X1PXrsHC5",
        "outputId": "6637af52-8ada-4305-8c6f-8c57fa0631e5"
      },
      "outputs": [
        {
          "output_type": "stream",
          "name": "stdout",
          "text": [
            "27\n",
            "\"day\"가 발견된 [1]번쨰 인덱스 27\n",
            "\"day\"가 발견된 [2]번쨰 인덱스 57\n",
            "\"day\"가 발견된 [3]번쨰 인덱스 -1\n"
          ]
        }
      ],
      "source": [
        "sample = 'A lot of things occur each day, it\\'svery dynamical every day.'\n",
        "pos = sample.find('day')\n",
        "print(pos)\n",
        "\n",
        "spos = 0   #find()가 대상을 찾기 시작할 인덱스\n",
        "idx = 0    #대상이 위치하는 인덱스\n",
        "count = 1\n",
        "while idx != -1:\n",
        "  idx = sample.find('day',spos)\n",
        "  print(f'\"day\"가 발견된 [{count}]번쨰 인덱스 {idx}')\n",
        "  spos = idx + 1   #find()가 대상을 찾기 시작할 인덱스 수정\n",
        "  count += 1"
      ]
    },
    {
      "cell_type": "code",
      "source": [
        "strList = ['Hello','오징어게임','파이썬 lover','안녕!','제3세계']\n",
        "for text in strList:\n",
        "  print(f'\"{text}\"\\t-->{text.isalpha()}')"
      ],
      "metadata": {
        "colab": {
          "base_uri": "https://localhost:8080/"
        },
        "id": "BwtJPjCMtMtK",
        "outputId": "b6ecded4-59ef-405a-d89e-d0601feb0711"
      },
      "execution_count": null,
      "outputs": [
        {
          "output_type": "stream",
          "name": "stdout",
          "text": [
            "\"Hello\"\t-->True\n",
            "\"오징어게임\"\t-->True\n",
            "\"파이썬 lover\"\t-->False\n",
            "\"안녕!\"\t-->False\n",
            "\"제3세계\"\t-->False\n"
          ]
        }
      ]
    }
  ]
}