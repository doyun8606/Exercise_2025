{
  "nbformat": 4,
  "nbformat_minor": 0,
  "metadata": {
    "colab": {
      "provenance": [],
      "authorship_tag": "ABX9TyMj/0UTQiVNF8TrsPxA4yqI",
      "include_colab_link": true
    },
    "kernelspec": {
      "name": "python3",
      "display_name": "Python 3"
    },
    "language_info": {
      "name": "python"
    }
  },
  "cells": [
    {
      "cell_type": "markdown",
      "metadata": {
        "id": "view-in-github",
        "colab_type": "text"
      },
      "source": [
        "<a href=\"https://colab.research.google.com/github/doyun8606/Exercise_2025/blob/main/58listremove_59listclear.ipynb\" target=\"_parent\"><img src=\"https://colab.research.google.com/assets/colab-badge.svg\" alt=\"Open In Colab\"/></a>"
      ]
    },
    {
      "cell_type": "code",
      "execution_count": null,
      "metadata": {
        "colab": {
          "base_uri": "https://localhost:8080/",
          "height": 72
        },
        "id": "52vpbRbek2-2",
        "outputId": "c595b398-4db9-48ee-db50-34d1c239c055"
      },
      "outputs": [
        {
          "output_type": "stream",
          "name": "stdout",
          "text": [
            "[1, 3, 1, 1, 5, 6, 2, 0, 7]\n",
            "[3, 5, 6, 2, 0, 7]\n"
          ]
        },
        {
          "output_type": "execute_result",
          "data": {
            "text/plain": [
              "\"fruits = ['사과','배','오렌지','수박','참외']\\nfruits.remove('딸기')\""
            ],
            "application/vnd.google.colaboratory.intrinsic+json": {
              "type": "string"
            }
          },
          "metadata": {},
          "execution_count": 3
        }
      ],
      "source": [
        "numbers = [1,1,3,1,1,5,6,2,0,7]\n",
        "if 1 in numbers:\n",
        "  numbers.remove(1)\n",
        "print(numbers)\n",
        "\n",
        "while 1 in numbers:\n",
        "  numbers.remove(1)\n",
        "print(numbers)\n",
        "\n",
        "'''fruits = ['사과','배','오렌지','수박','참외']\n",
        "fruits.remove('딸기')'''"
      ]
    },
    {
      "cell_type": "code",
      "source": [
        "fruits = ['사과','배','오렌지','수박','참외']\n",
        "fruits.clear()\n",
        "print(fruits)\n",
        "\n",
        "fruits = ['사과','배','오렌지','수박','참외']\n",
        "del fruits[:]\n",
        "print(fruits)"
      ],
      "metadata": {
        "colab": {
          "base_uri": "https://localhost:8080/"
        },
        "id": "1PmjPSk2lqsp",
        "outputId": "7ec039a0-60a0-4f0a-c369-ad71c2eaf10b"
      },
      "execution_count": null,
      "outputs": [
        {
          "output_type": "stream",
          "name": "stdout",
          "text": [
            "[]\n",
            "[]\n"
          ]
        }
      ]
    }
  ]
}