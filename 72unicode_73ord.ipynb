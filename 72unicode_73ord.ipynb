{
  "nbformat": 4,
  "nbformat_minor": 0,
  "metadata": {
    "colab": {
      "provenance": [],
      "authorship_tag": "ABX9TyNHGhkgNp4LZGRCuAAshVxK",
      "include_colab_link": true
    },
    "kernelspec": {
      "name": "python3",
      "display_name": "Python 3"
    },
    "language_info": {
      "name": "python"
    }
  },
  "cells": [
    {
      "cell_type": "markdown",
      "metadata": {
        "id": "view-in-github",
        "colab_type": "text"
      },
      "source": [
        "<a href=\"https://colab.research.google.com/github/doyun8606/Exercise_2025/blob/main/72unicode_73ord.ipynb\" target=\"_parent\"><img src=\"https://colab.research.google.com/assets/colab-badge.svg\" alt=\"Open In Colab\"/></a>"
      ]
    },
    {
      "cell_type": "code",
      "execution_count": null,
      "metadata": {
        "id": "Rhhj-ZdL2HM9"
      },
      "outputs": [],
      "source": [
        "strData1 = 'I love python!'  #유니코드 문자열\n",
        "strData2 =\"사랑해요 파이썬!\" #유니코드 문자열\n",
        "strData3 =\"\"\"A lot of things\n",
        "occur each day.\"\"\"           #유니코드 문자열"
      ]
    },
    {
      "cell_type": "code",
      "source": [
        "while True:\n",
        "  ch = input('문자 1개를 입력하세요[끝내려면 엔터를 치세요]:')\n",
        "  if len(ch) == 0:\n",
        "    break\n",
        "  ch = ch[0]\n",
        "  code = ord(ch)\n",
        "  print(f'-->문자\"{ch}\"의 코드값: {hex(code)}')"
      ],
      "metadata": {
        "colab": {
          "base_uri": "https://localhost:8080/"
        },
        "id": "dUmfC1232hTV",
        "outputId": "97ddf172-e4fe-435a-ba44-28bd7a027d49"
      },
      "execution_count": null,
      "outputs": [
        {
          "output_type": "stream",
          "name": "stdout",
          "text": [
            "문자 1개를 입력하세요[끝내려면 엔터를 치세요]:a\n",
            "-->문자\"a\"의 코드값: 0x61\n",
            "문자 1개를 입력하세요[끝내려면 엔터를 치세요]:가\n",
            "-->문자\"가\"의 코드값: 0xac00\n",
            "문자 1개를 입력하세요[끝내려면 엔터를 치세요]:ㅁㄴㅇ\n",
            "-->문자\"ㅁ\"의 코드값: 0x3141\n"
          ]
        }
      ]
    }
  ]
}