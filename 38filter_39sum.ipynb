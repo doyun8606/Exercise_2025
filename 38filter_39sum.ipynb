{
  "nbformat": 4,
  "nbformat_minor": 0,
  "metadata": {
    "colab": {
      "provenance": [],
      "authorship_tag": "ABX9TyNW0g5fsFM2ihCTtlyx2rW3",
      "include_colab_link": true
    },
    "kernelspec": {
      "name": "python3",
      "display_name": "Python 3"
    },
    "language_info": {
      "name": "python"
    }
  },
  "cells": [
    {
      "cell_type": "markdown",
      "metadata": {
        "id": "view-in-github",
        "colab_type": "text"
      },
      "source": [
        "<a href=\"https://colab.research.google.com/github/doyun8606/Exercise_2025/blob/main/38filter_39sum.ipynb\" target=\"_parent\"><img src=\"https://colab.research.google.com/assets/colab-badge.svg\" alt=\"Open In Colab\"/></a>"
      ]
    },
    {
      "cell_type": "code",
      "execution_count": null,
      "metadata": {
        "colab": {
          "base_uri": "https://localhost:8080/"
        },
        "id": "X0f0uvh0AMX0",
        "outputId": "7e7bace3-fe23-44d0-fa85-a8fbd85816b2"
      },
      "outputs": [
        {
          "output_type": "stream",
          "name": "stdout",
          "text": [
            "2 3 5 7 11 13 17 19 23 29 31 37 41 43 47 53 59 61 67 71 73 79 83 89 97 "
          ]
        }
      ],
      "source": [
        "def getPrime(x):\n",
        "  if x == 2:\n",
        "    return True\n",
        "  if x <= 1 or x%2 == 0:\n",
        "    return False\n",
        "\n",
        "  for i in range(3,int(x**(1/2))+1, 2):\n",
        "    if x%i == 0:\n",
        "      return False\n",
        "  else:\n",
        "    return True\n",
        "\n",
        "intList = [x for x in range(1,101)]\n",
        "ret = filter(getPrime, intList)\n",
        "for p in ret:\n",
        "  print(p, end=' ')\n"
      ]
    },
    {
      "cell_type": "code",
      "source": [
        "numList = [1,3,5,7,9]\n",
        "ret = sum(numList)\n",
        "print(ret)\n",
        "\n",
        "ret = sum(numList, 10) # sum(numList) + 10\n",
        "print(ret)\n",
        "\n",
        "'''randomList = [1,2,'SAMSUNG','LG']\n",
        "ret = sum(randomList)'''"
      ],
      "metadata": {
        "id": "fkesNlrgG22m",
        "colab": {
          "base_uri": "https://localhost:8080/",
          "height": 72
        },
        "outputId": "01862ce4-98ce-435c-a897-79370f4faab0"
      },
      "execution_count": null,
      "outputs": [
        {
          "output_type": "stream",
          "name": "stdout",
          "text": [
            "25\n",
            "35\n"
          ]
        },
        {
          "output_type": "execute_result",
          "data": {
            "text/plain": [
              "\"randomList = [1,2,'SAMSUNG','LG']\\nret = sum(randomList)\""
            ],
            "application/vnd.google.colaboratory.intrinsic+json": {
              "type": "string"
            }
          },
          "metadata": {},
          "execution_count": 5
        }
      ]
    }
  ]
}