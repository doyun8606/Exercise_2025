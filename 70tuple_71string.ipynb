{
  "nbformat": 4,
  "nbformat_minor": 0,
  "metadata": {
    "colab": {
      "provenance": [],
      "authorship_tag": "ABX9TyOOItielOfJsCLN2UKSQn2K",
      "include_colab_link": true
    },
    "kernelspec": {
      "name": "python3",
      "display_name": "Python 3"
    },
    "language_info": {
      "name": "python"
    }
  },
  "cells": [
    {
      "cell_type": "markdown",
      "metadata": {
        "id": "view-in-github",
        "colab_type": "text"
      },
      "source": [
        "<a href=\"https://colab.research.google.com/github/doyun8606/Exercise_2025/blob/main/70tuple_71string.ipynb\" target=\"_parent\"><img src=\"https://colab.research.google.com/assets/colab-badge.svg\" alt=\"Open In Colab\"/></a>"
      ]
    },
    {
      "cell_type": "code",
      "execution_count": null,
      "metadata": {
        "colab": {
          "base_uri": "https://localhost:8080/",
          "height": 90
        },
        "id": "ZtOj4cqn0JdF",
        "outputId": "4e805237-d1cd-4ca2-b720-42ef531900a4"
      },
      "outputs": [
        {
          "output_type": "stream",
          "name": "stdout",
          "text": [
            "(1, 'two', '셋')\n",
            "(1, 'two', '셋')\n",
            "x=1,y=two,z=셋\n"
          ]
        },
        {
          "output_type": "execute_result",
          "data": {
            "text/plain": [
              "'tupleData = (0,1,2,3,4)\\ntupleData[3] = \"Three\"'"
            ],
            "application/vnd.google.colaboratory.intrinsic+json": {
              "type": "string"
            }
          },
          "metadata": {},
          "execution_count": 4
        }
      ],
      "source": [
        "tupleData = 1,'two','셋'\n",
        "print(tupleData)\n",
        "\n",
        "tupleData = (1,'two','셋')\n",
        "print(tupleData)\n",
        "\n",
        "x,y,z = tupleData\n",
        "print(f'x={x},y={y},z={z}')\n",
        "\n",
        "'''tupleData = (0,1,2,3,4)\n",
        "tupleData[3] = \"Three\"'''"
      ]
    },
    {
      "cell_type": "code",
      "source": [
        "strData1 = '안녕하세요'\n",
        "strData2 = '작은따옴표는 \"큰따옴표\"를 포함하는 문자열이 가능합니다.'\n",
        "print(strData1)\n",
        "print(strData2)\n",
        "\n",
        "strData3 = \"안녕하세요\"\n",
        "strData4 = \"큰따옴표는 '작은따옴표'를 포함하는 문자열이 가능합니다.\"\n",
        "print(strData3)\n",
        "print(strData4)\n",
        "\n",
        "strData5 = '''3중 작은따옴표는\n",
        "        여러줄에 걸친 문자열이 가능합니다.'''\n",
        "print(strData5)\n",
        "\n",
        "strData6 =\"\"\"3중 큰따옴표 역시\n",
        "여러줄에 걸친 문자열이 가능합니다\"\"\"\n",
        "print(strData6)\n",
        "\n",
        "#삼중따옴표는 여러줄의 코드를 주석처리 가능"
      ],
      "metadata": {
        "colab": {
          "base_uri": "https://localhost:8080/"
        },
        "id": "8xWQDn990zTg",
        "outputId": "2433754b-4603-4494-eb72-e6ed95c135b7"
      },
      "execution_count": null,
      "outputs": [
        {
          "output_type": "stream",
          "name": "stdout",
          "text": [
            "안녕하세요\n",
            "작은따옴표는 \"큰따옴표\"를 포함하는 문자열이 가능합니다.\n",
            "안녕하세요\n",
            "큰따옴표는 '작은따옴표'를 포함하는 문자열이 가능합니다.\n",
            "3중 작은따옴표는\n",
            "        여러줄에 걸친 문자열이 가능합니다.\n",
            "3중 큰따옴표 역시\n",
            "여러줄에 걸친 문자열이 가능합니다\n"
          ]
        }
      ]
    }
  ]
}