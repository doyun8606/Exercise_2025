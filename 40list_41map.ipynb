{
  "nbformat": 4,
  "nbformat_minor": 0,
  "metadata": {
    "colab": {
      "provenance": [],
      "authorship_tag": "ABX9TyOG7CDpRVBuULgQRjMgFMFr",
      "include_colab_link": true
    },
    "kernelspec": {
      "name": "python3",
      "display_name": "Python 3"
    },
    "language_info": {
      "name": "python"
    }
  },
  "cells": [
    {
      "cell_type": "markdown",
      "metadata": {
        "id": "view-in-github",
        "colab_type": "text"
      },
      "source": [
        "<a href=\"https://colab.research.google.com/github/doyun8606/Exercise_2025/blob/main/40list_41map.ipynb\" target=\"_parent\"><img src=\"https://colab.research.google.com/assets/colab-badge.svg\" alt=\"Open In Colab\"/></a>"
      ]
    },
    {
      "cell_type": "code",
      "execution_count": null,
      "metadata": {
        "colab": {
          "base_uri": "https://localhost:8080/"
        },
        "id": "j3NMHXpQIKon",
        "outputId": "513f8584-198f-4162-b8da-ed76dc5d3965"
      },
      "outputs": [
        {
          "output_type": "stream",
          "name": "stdout",
          "text": [
            "[1, 2, 3, 4, 5]\n",
            "['I', ' ', 'l', 'o', 'v', 'e', ' ', 'p', 'y', 't', 'h', 'o', 'n', '!']\n",
            "[0, 1, 2, 3, 4]\n"
          ]
        }
      ],
      "source": [
        "tupleData = (1,2,3,4,5)\n",
        "print(list(tupleData))\n",
        "\n",
        "strData = 'I love python!'\n",
        "print(list(strData))\n",
        "\n",
        "def MyRange(n):\n",
        "  current = 0\n",
        "  while current < n:\n",
        "    yield current\n",
        "    current += 1\n",
        "\n",
        "intList = MyRange(5)\n",
        "print(list(intList))"
      ]
    },
    {
      "cell_type": "code",
      "source": [
        "def myfunc(x):\n",
        "  return x**2\n",
        "\n",
        "results = map(myfunc, [0,1,2,3])\n",
        "print(list(results))\n",
        "\n",
        "results = map(lambda x:x**2, range(4))\n",
        "print(list(results))\n",
        "\n",
        "X = [1,2,3,4,5]\n",
        "Y = [10,9,8,7,6]\n",
        "ret = map(lambda x,y:x**2+y,X,Y)\n",
        "print(list(ret))"
      ],
      "metadata": {
        "colab": {
          "base_uri": "https://localhost:8080/"
        },
        "id": "PYDWPunBJRZ3",
        "outputId": "f47eab0c-0ef1-48ad-dadd-cf9c22ec594c"
      },
      "execution_count": null,
      "outputs": [
        {
          "output_type": "stream",
          "name": "stdout",
          "text": [
            "[0, 1, 4, 9]\n",
            "[0, 1, 4, 9]\n",
            "[11, 13, 17, 23, 31]\n"
          ]
        }
      ]
    }
  ]
}