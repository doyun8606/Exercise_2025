{
  "nbformat": 4,
  "nbformat_minor": 0,
  "metadata": {
    "colab": {
      "provenance": [],
      "authorship_tag": "ABX9TyNsmazCuwge6iFkZu8BkiCv",
      "include_colab_link": true
    },
    "kernelspec": {
      "name": "python3",
      "display_name": "Python 3"
    },
    "language_info": {
      "name": "python"
    }
  },
  "cells": [
    {
      "cell_type": "markdown",
      "metadata": {
        "id": "view-in-github",
        "colab_type": "text"
      },
      "source": [
        "<a href=\"https://colab.research.google.com/github/doyun8606/Exercise_2025/blob/main/64listpop_65listreverse.ipynb\" target=\"_parent\"><img src=\"https://colab.research.google.com/assets/colab-badge.svg\" alt=\"Open In Colab\"/></a>"
      ]
    },
    {
      "cell_type": "code",
      "execution_count": null,
      "metadata": {
        "colab": {
          "base_uri": "https://localhost:8080/"
        },
        "id": "xMyytjgAqdGZ",
        "outputId": "2f0ab142-698e-4641-91c0-65a6b9333d04"
      },
      "outputs": [
        {
          "output_type": "stream",
          "name": "stdout",
          "text": [
            "pop()으로 추출된 값:43, numbers = [14, 5, 18, 45, 10]\n",
            "pop()으로 추출된 값:10, numbers = [14, 5, 18, 45]\n",
            "pop()으로 추출된 값:45, numbers = [14, 5, 18]\n",
            "pop()으로 추출된 값:18, numbers = [14, 5]\n",
            "pop()으로 추출된 값:5, numbers = [14]\n",
            "pop()으로 추출된 값:14, numbers = []\n",
            "pop()으로 추출된 값:45,numbers = [14, 5, 18, 10, 43]\n"
          ]
        }
      ],
      "source": [
        "numbers = [14,5,18,45,10,43]\n",
        "for _ in range(len(numbers)):\n",
        "  ret = numbers.pop()\n",
        "  print(f'pop()으로 추출된 값:{ret}, numbers = {numbers}')\n",
        "\n",
        "numbers = [14,5,18,45,10,43]\n",
        "ret = numbers.pop(3)\n",
        "print(f'pop()으로 추출된 값:{ret},numbers = {numbers}')"
      ]
    },
    {
      "cell_type": "code",
      "source": [
        "numbers = [1,2,3,4,5]\n",
        "ret = reversed(numbers)\n",
        "print(list(ret))\n",
        "print(numbers)\n",
        "\n",
        "numbers = [1,2,3,4,5]\n",
        "numbers.reverse()\n",
        "print(numbers)"
      ],
      "metadata": {
        "colab": {
          "base_uri": "https://localhost:8080/"
        },
        "id": "tPj5IPTRsOpx",
        "outputId": "83aa930f-8f3b-4aec-f90a-70d968bdfb29"
      },
      "execution_count": null,
      "outputs": [
        {
          "output_type": "stream",
          "name": "stdout",
          "text": [
            "[5, 4, 3, 2, 1]\n",
            "[1, 2, 3, 4, 5]\n",
            "[5, 4, 3, 2, 1]\n"
          ]
        }
      ]
    }
  ]
}