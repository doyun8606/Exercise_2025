{
  "nbformat": 4,
  "nbformat_minor": 0,
  "metadata": {
    "colab": {
      "provenance": [],
      "authorship_tag": "ABX9TyPu+MlLZuuRUf7So9nQvqmf",
      "include_colab_link": true
    },
    "kernelspec": {
      "name": "python3",
      "display_name": "Python 3"
    },
    "language_info": {
      "name": "python"
    }
  },
  "cells": [
    {
      "cell_type": "markdown",
      "metadata": {
        "id": "view-in-github",
        "colab_type": "text"
      },
      "source": [
        "<a href=\"https://colab.research.google.com/github/doyun8606/Exercise_2025/blob/main/8len_9type.ipynb\" target=\"_parent\"><img src=\"https://colab.research.google.com/assets/colab-badge.svg\" alt=\"Open In Colab\"/></a>"
      ]
    },
    {
      "cell_type": "code",
      "execution_count": null,
      "metadata": {
        "colab": {
          "base_uri": "https://localhost:8080/"
        },
        "id": "a1Nrnvy8WApA",
        "outputId": "4f65dbf6-6784-4c1e-9a70-dab6a7081cb3"
      },
      "outputs": [
        {
          "output_type": "stream",
          "name": "stdout",
          "text": [
            "14\n",
            "5\n",
            "3\n",
            "4\n",
            "2\n"
          ]
        }
      ],
      "source": [
        "strData = 'I love python!'\n",
        "print(len(strData))\n",
        "\n",
        "listData = [1, 2, 3, 4, 5]\n",
        "print(len(listData))\n",
        "\n",
        "tupleData = ('a', 'bc', 'def')\n",
        "print(len(tupleData))\n",
        "\n",
        "setData = {'cup', 'shoes', 'shirts', 'pants'}\n",
        "print(len(setData))\n",
        "\n",
        "dictData = {1:True, 0:False}\n",
        "print(len(dictData))"
      ]
    },
    {
      "cell_type": "code",
      "source": [
        "intData = 1\n",
        "print(type(intData))\n",
        "\n",
        "strData = 'I love python!'\n",
        "print(type(strData))"
      ],
      "metadata": {
        "colab": {
          "base_uri": "https://localhost:8080/"
        },
        "id": "bJxYU4n-XB89",
        "outputId": "7cbb3799-96ed-49db-dfb5-375628e095a2"
      },
      "execution_count": null,
      "outputs": [
        {
          "output_type": "stream",
          "name": "stdout",
          "text": [
            "<class 'int'>\n",
            "<class 'str'>\n"
          ]
        }
      ]
    }
  ]
}