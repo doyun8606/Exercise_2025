{
  "nbformat": 4,
  "nbformat_minor": 0,
  "metadata": {
    "colab": {
      "provenance": [],
      "authorship_tag": "ABX9TyPj7gzwL1SIlzwTbFYOc0Ea",
      "include_colab_link": true
    },
    "kernelspec": {
      "name": "python3",
      "display_name": "Python 3"
    },
    "language_info": {
      "name": "python"
    }
  },
  "cells": [
    {
      "cell_type": "markdown",
      "metadata": {
        "id": "view-in-github",
        "colab_type": "text"
      },
      "source": [
        "<a href=\"https://colab.research.google.com/github/doyun8606/Exercise_2025/blob/main/6data_7print.ipynb\" target=\"_parent\"><img src=\"https://colab.research.google.com/assets/colab-badge.svg\" alt=\"Open In Colab\"/></a>"
      ]
    },
    {
      "cell_type": "code",
      "execution_count": null,
      "metadata": {
        "id": "6iq1tGBaVJTf"
      },
      "outputs": [],
      "source": [
        "intData = 15 #정수 데이터\n",
        "floatData = 2.5 # 실수 데이터\n",
        "complexData = 1 + 1j\n",
        "\n",
        "isTrue = True\n",
        "isFalse = False\n",
        "setData = {1, 2, 3, 4, 5}\n",
        "dictData = {0:False, 1:True}"
      ]
    },
    {
      "cell_type": "code",
      "source": [
        "print('안녕하세요 파이썬!')\n",
        "hello = '안녕하세요 파이썬!'\n",
        "print(hello)\n",
        "\n",
        "intData1 = 1\n",
        "intData2 = 2\n",
        "print(intData1 + intData2)\n",
        "\n",
        "name = '홍길동'\n",
        "phone = '010-1234-5678'\n",
        "print('이름:', name, '핸드폰', phone)\n",
        "\n",
        "print('#', end='')\n",
        "print('#'*5)\n",
        "\n",
        "print(name, phone, sep=';')"
      ],
      "metadata": {
        "colab": {
          "base_uri": "https://localhost:8080/"
        },
        "id": "RhAcWYvesay0",
        "outputId": "9c9f8d25-2fb4-4235-e96f-1b7f068ca9ae"
      },
      "execution_count": null,
      "outputs": [
        {
          "output_type": "stream",
          "name": "stdout",
          "text": [
            "안녕하세요 파이썬!\n",
            "안녕하세요 파이썬!\n",
            "3\n",
            "이름: 홍길동 핸드폰 010-1234-5678\n",
            "######\n",
            "홍길동;010-1234-5678\n"
          ]
        }
      ]
    }
  ]
}