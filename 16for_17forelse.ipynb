{
  "nbformat": 4,
  "nbformat_minor": 0,
  "metadata": {
    "colab": {
      "provenance": [],
      "authorship_tag": "ABX9TyOVuyc2WgITJaeuRhPSgJZ6",
      "include_colab_link": true
    },
    "kernelspec": {
      "name": "python3",
      "display_name": "Python 3"
    },
    "language_info": {
      "name": "python"
    }
  },
  "cells": [
    {
      "cell_type": "markdown",
      "metadata": {
        "id": "view-in-github",
        "colab_type": "text"
      },
      "source": [
        "<a href=\"https://colab.research.google.com/github/doyun8606/Exercise_2025/blob/main/16for_17forelse.ipynb\" target=\"_parent\"><img src=\"https://colab.research.google.com/assets/colab-badge.svg\" alt=\"Open In Colab\"/></a>"
      ]
    },
    {
      "cell_type": "code",
      "execution_count": null,
      "metadata": {
        "colab": {
          "base_uri": "https://localhost:8080/"
        },
        "id": "EGC5Jpjjzs1t",
        "outputId": "8739173f-4b0c-426c-f0ca-3d4f8484f53c"
      },
      "outputs": [
        {
          "output_type": "stream",
          "name": "stdout",
          "text": [
            "1\n",
            "2\n",
            "1\n",
            "2\n"
          ]
        }
      ],
      "source": [
        "'''strData = 'abcdef'\n",
        "for c in strData:\n",
        "  print(c,end='-')\n",
        "\n",
        "listData = [1,2,3,4,5]\n",
        "for idx in listData:\n",
        "  print(idx, end='-')\n",
        "\n",
        "ascii_codes = {'a':97, 'b':98, 'c':99}\n",
        "for code in ascii_codes.items():\n",
        "  print(code)\n",
        "\n",
        "for i in range(10):\n",
        "  print(i, end='#')'''\n",
        "\n",
        "for i in [1,2,3,4,5]:\n",
        "  print(i)\n",
        "  if i <2:\n",
        "    continue\n",
        "  else:\n",
        "    break\n",
        "\n",
        "for i in [1,2,3,4,5]:\n",
        "  print(i)\n",
        "  if i == 2:\n",
        "    break"
      ]
    },
    {
      "cell_type": "code",
      "source": [
        "for x in [1,2,3]:\n",
        "  print(x)\n",
        "else:\n",
        "  print('perfect!')\n",
        "\n",
        "for x in [1,2,3]:\n",
        "  print(x)\n",
        "  if x > 1:\n",
        "    break\n",
        "else:\n",
        "  print('perfect!')"
      ],
      "metadata": {
        "colab": {
          "base_uri": "https://localhost:8080/"
        },
        "id": "104UvGFd1U1q",
        "outputId": "2fccd6bb-a8bf-465f-bd46-f7e390e6a4a3"
      },
      "execution_count": null,
      "outputs": [
        {
          "output_type": "stream",
          "name": "stdout",
          "text": [
            "1\n",
            "2\n",
            "3\n",
            "perfect!\n",
            "1\n",
            "2\n"
          ]
        }
      ]
    }
  ]
}